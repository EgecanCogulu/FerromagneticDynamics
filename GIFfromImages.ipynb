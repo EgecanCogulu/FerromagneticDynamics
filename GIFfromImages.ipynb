{
 "cells": [
  {
   "cell_type": "code",
   "execution_count": null,
   "id": "ba0bf803",
   "metadata": {},
   "outputs": [],
   "source": [
    "# -*- coding: utf-8 -*-\n",
    "\"\"\"\n",
    "Created on Thu Mar 19 00:24:04 2020\n",
    "\n",
    "@author: Egecan\n",
    "\n",
    "This script creates a GIF from images in a folder. It saves the target GIF to the same folder.\n",
    "\n",
    "\"\"\"\n",
    "from PIL import Image, ImageDraw\n",
    "import os\n",
    "\n",
    "#Put folder name here\n",
    "foldername=r\"C:\\Users\\Egecan\\Desktop\\GIF\\\\\""
   ]
  },
  {
   "cell_type": "code",
   "execution_count": null,
   "id": "aaf5119a",
   "metadata": {},
   "outputs": [],
   "source": [
    "filenames=os.listdir(foldername)\n",
    "images=[]\n",
    "\n",
    "for (i,filename) in enumerate(filenames):\n",
    "    img = Image.open(foldername+filename)\n",
    "    images.append(img)\n",
    "\n",
    "images[0].save(foldername+str(i)+\"_IMAGES_GIF.gif\",\n",
    "                save_all=True, append_images=images[1:], optimize=True, duration=0, loop=0)"
   ]
  }
 ],
 "metadata": {
  "kernelspec": {
   "display_name": "Python 3 (ipykernel)",
   "language": "python",
   "name": "python3"
  },
  "language_info": {
   "codemirror_mode": {
    "name": "ipython",
    "version": 3
   },
   "file_extension": ".py",
   "mimetype": "text/x-python",
   "name": "python",
   "nbconvert_exporter": "python",
   "pygments_lexer": "ipython3",
   "version": "3.8.12"
  }
 },
 "nbformat": 4,
 "nbformat_minor": 5
}
