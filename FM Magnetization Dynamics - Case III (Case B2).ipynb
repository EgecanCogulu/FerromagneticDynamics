{
 "cells": [
  {
   "cell_type": "code",
   "execution_count": 1,
   "id": "31c1fd42",
   "metadata": {},
   "outputs": [],
   "source": [
    "import numpy as np\n",
    "import matplotlib.pyplot as plt\n",
    "import sympy as smp\n",
    "from scipy.integrate import odeint\n",
    "import plotly.graph_objects as go\n",
    "from IPython.display import HTML\n",
    "from sympy.matrices import Matrix\n",
    "from sympy.vector import Vector\n",
    "import plotly.express as px\n",
    "from ipywidgets import interact\n",
    "from ipywidgets import interactive\n",
    "from ipywidgets import widgets\n",
    "from scipy.integrate import odeint\n",
    "from IPython.display import HTML\n",
    "from scipy.integrate import solve_ivp\n",
    "import plotly.io as pio\n"
   ]
  },
  {
   "cell_type": "markdown",
   "id": "cf7da389",
   "metadata": {},
   "source": [
    "Easy axis in X-direction.  Hard axis in Z direction.\n",
    "There is no magnetic field. Spin accumulation in +x direction."
   ]
  },
  {
   "cell_type": "markdown",
   "id": "6721962b",
   "metadata": {},
   "source": [
    "#### Free Energy Density\n",
    "We start by the free energy density in terms of unit magnetizations $\\textbf{m}$:\n",
    "\n",
    "$$ \\frac{\\epsilon}{\\hbar\\gamma_{0}} =D m_{z}^2 -K m_{x}^2 $$\n",
    "#### LLG Equation\n",
    "$$\\frac{d\\vec{\\textbf{m}}}{dt}= \\gamma_{0} (\\vec{\\textbf{m}} \\times H^{eff})+ \\alpha_{0} \\vec{\\textbf{m}} \\times\\frac{d\\vec{\\textbf{m}}}{dt} +\\gamma_{0}H_{DL}\\vec{\\textbf{m}}\\times[ \\vec{\\textbf{m}}\\times \\hat{\\sigma}] $$\n"
   ]
  },
  {
   "cell_type": "markdown",
   "id": "3885757d",
   "metadata": {},
   "source": [
    "We define the necessary variables for symbolic calculation using Sympy:"
   ]
  },
  {
   "cell_type": "code",
   "execution_count": 2,
   "id": "8e49ee68",
   "metadata": {},
   "outputs": [],
   "source": [
    "t = smp.symbols('t', real=True)\n",
    "Hx, Hy, Hz, a, g, FL, DL, Hex, Kx,Dz= smp.symbols('Hx Hy Hz a g H_{FL} H_{DL} H_{ex} K_{x} D_{z} ', real=True)\n",
    "mx, my, mz = smp.symbols(r'm_{x} m_{y} m_{z}', cls=smp.Function)\n",
    "mx = mx(t)\n",
    "my = my(t)\n",
    "mz = mz(t)\n",
    "# Derivatives\n",
    "mx_d = smp.diff(mx,t)\n",
    "my_d = smp.diff(my,t)\n",
    "mz_d = smp.diff(mz,t)\n",
    "\n",
    "m=Matrix([mx,my,mz])\n",
    "\n",
    "m_d=Matrix([mx_d,my_d,mz_d])\n",
    "H=Matrix([Hx,Hy,Hz])\n",
    "\n",
    "X=Matrix([1,0,0])\n",
    "Y=Matrix([0,1,0])\n",
    "Z=Matrix([0,0,1])"
   ]
  },
  {
   "cell_type": "markdown",
   "id": "62eeb149",
   "metadata": {},
   "source": [
    "Then we set the values of material parameters such as exchange, Gilbert damping, DMI and anisotropy:"
   ]
  },
  {
   "cell_type": "code",
   "execution_count": 3,
   "id": "668c62a7",
   "metadata": {},
   "outputs": [],
   "source": [
    "a_value=0.025\n",
    "\n",
    "Kx_value=0.02\n",
    "Dz_value=0.1\n",
    "\n",
    "g_value=1\n",
    "\n",
    "DL_value=0.01\n",
    "\n",
    "Hx_value,Hy_value,Hz_value=0,0,0\n",
    "\n",
    "e=Matrix([1,0,0])"
   ]
  },
  {
   "cell_type": "markdown",
   "id": "3c5eb147",
   "metadata": {},
   "source": [
    "Setting the free energy and calculating effective fields:"
   ]
  },
  {
   "cell_type": "code",
   "execution_count": 4,
   "id": "ac62adf4",
   "metadata": {
    "scrolled": true
   },
   "outputs": [],
   "source": [
    "FE= -1*Kx*((X.dot(m))**2)+Dz*((Z.dot(m))**2) -H.dot(m)\n",
    "Heff=smp.diff(FE,m)\n"
   ]
  },
  {
   "cell_type": "code",
<<<<<<< Updated upstream:FM Magnetization Dynamics - Case III (Case B2).ipynb
   "execution_count": 5,
   "id": "69eb3b31",
=======
   "execution_count": 11,
   "id": "433ff589",
>>>>>>> Stashed changes:.ipynb_checkpoints/FM Magnetization Dynamics - Case B2-checkpoint.ipynb
   "metadata": {},
   "outputs": [
    {
     "data": {
      "text/latex": [
       "$\\displaystyle D_{z} \\operatorname{m_{z}}^{2}{\\left(t \\right)} - Hx \\operatorname{m_{x}}{\\left(t \\right)} - Hy \\operatorname{m_{y}}{\\left(t \\right)} - Hz \\operatorname{m_{z}}{\\left(t \\right)} - K_{x} \\operatorname{m_{x}}^{2}{\\left(t \\right)}$"
      ],
      "text/plain": [
       "D_{z}*m_{z}(t)**2 - Hx*m_{x}(t) - Hy*m_{y}(t) - Hz*m_{z}(t) - K_{x}*m_{x}(t)**2"
      ]
     },
<<<<<<< Updated upstream:FM Magnetization Dynamics - Case III (Case B2).ipynb
     "execution_count": 5,
=======
     "execution_count": 11,
>>>>>>> Stashed changes:.ipynb_checkpoints/FM Magnetization Dynamics - Case B2-checkpoint.ipynb
     "metadata": {},
     "output_type": "execute_result"
    }
   ],
   "source": [
    "FE"
   ]
  },
  {
   "cell_type": "markdown",
   "id": "76302697",
   "metadata": {},
   "source": [
    "LLG Equation:\n",
    "\n",
    "$$\\frac{d\\vec{m}}{dt}= \\gamma_{0} (\\vec{\\textbf{m}} \\times H^{eff})+ \\alpha_{0} \\vec{\\textbf{m}} \\times\\frac{d\\vec{\\textbf{m}}}{dt} +\\gamma_{0}H_{DL}\\vec{\\textbf{m}}\\times[ \\vec{\\textbf{m}}\\times \\hat{\\sigma}] $$"
   ]
  },
  {
   "cell_type": "code",
   "execution_count": 6,
   "id": "836d03e7",
   "metadata": {},
   "outputs": [],
   "source": [
    "llg=-m_d + g*(m.cross(Heff))+a*(m.cross(m_d))+g*DL*m.cross(m.cross(X))"
   ]
  },
  {
   "cell_type": "markdown",
   "id": "d46a9eea",
   "metadata": {},
   "source": [
    "We solve symbollically both equations for $\\frac{d\\vec{m}_{1,2}}{dt}$: (we don't solve the differential equation yet. We just have a symbollic expression for $\\frac{d\\vec{m}_{1,2}}{dt}$)"
   ]
  },
  {
   "cell_type": "code",
   "execution_count": 7,
   "id": "316c7819",
   "metadata": {},
   "outputs": [],
   "source": [
    "sols= smp.solve(llg, (mx_d, my_d, mz_d),simplify=True, rational=False)"
   ]
  },
  {
   "cell_type": "markdown",
   "id": "6866e81c",
   "metadata": {},
   "source": [
    "We evaluate the symbolic expressions:"
   ]
  },
  {
   "cell_type": "code",
   "execution_count": 8,
   "id": "f33bf576",
   "metadata": {},
   "outputs": [],
   "source": [
    "mx_df = smp.lambdify((t,m), sols[mx_d].subs([(g,g_value),(a,a_value),(Kx,Kx_value),(Dz,Dz_value),(DL,DL_value),(Hx,Hx_value),(Hy,Hy_value),(Hz,Hz_value)]))\n",
    "my_df = smp.lambdify((t,m), sols[my_d].subs([(g,g_value),(a,a_value),(Kx,Kx_value),(Dz,Dz_value),(DL,DL_value),(Hx,Hx_value),(Hy,Hy_value),(Hz,Hz_value)]))\n",
    "mz_df = smp.lambdify((t,m), sols[mz_d].subs([(g,g_value),(a,a_value),(Kx,Kx_value),(Dz,Dz_value),(DL,DL_value),(Hx,Hx_value),(Hy,Hy_value),(Hz,Hz_value)]))"
   ]
  },
  {
   "cell_type": "markdown",
   "id": "45966697",
   "metadata": {},
   "source": [
    "We define a function and inital conditions so that we can solve the ODES numerically:"
   ]
  },
  {
   "cell_type": "code",
   "execution_count": 9,
   "id": "b352656b",
   "metadata": {},
   "outputs": [],
   "source": [
    "def dSdt(t,S):\n",
    "    mx,my,mz  = S\n",
    "    return [\n",
    "        mx_df(t,[mx,my,mz]),\n",
    "        my_df(t,[mx,my,mz]),\n",
    "        mz_df(t,[mx,my,mz]),\n",
    "    ]\n",
    "\n",
    "theta=90*(np.pi/180)\n",
    "phi=1*(np.pi/180)\n",
    "\n",
    "x=np.sin(theta)*np.cos(phi)\n",
    "y=np.sin(theta)*np.sin(phi)\n",
    "z=np.cos(theta)\n",
    "\n",
    "\n",
    "\n",
    "init_cond=(x,y,z)"
   ]
  },
  {
   "cell_type": "markdown",
   "id": "51df6f45",
   "metadata": {},
   "source": [
    "We solve the coupled ODEs using ODEINT function:"
   ]
  },
  {
   "cell_type": "code",
   "execution_count": 10,
   "id": "9991349b",
   "metadata": {},
   "outputs": [],
   "source": [
    "\n",
    "t = np.linspace(0, 1100, 550)\n",
    "\n",
    "sol = odeint(dSdt, y0=init_cond, t=t, tfirst=True)\n",
    "sol=sol.T"
   ]
  },
  {
   "cell_type": "markdown",
   "id": "37fa80c4",
   "metadata": {},
   "source": [
    "We plot the graphics:"
   ]
  },
  {
   "cell_type": "code",
   "execution_count": 16,
   "id": "ef75e2f8",
   "metadata": {
    "scrolled": false
   },
   "outputs": [
    {
     "data": {
      "application/vnd.jupyter.widget-view+json": {
<<<<<<< Updated upstream:FM Magnetization Dynamics - Case III (Case B2).ipynb
       "model_id": "186e452e77e54fe8927a801151119795",
=======
       "model_id": "0246536181ad4163993bedb341c07228",
>>>>>>> Stashed changes:.ipynb_checkpoints/FM Magnetization Dynamics - Case B2-checkpoint.ipynb
       "version_major": 2,
       "version_minor": 0
      },
      "text/plain": [
       "interactive(children=(IntSlider(value=0, continuous_update=False, description='Time Step', max=549, readout_fo…"
      ]
     },
     "metadata": {},
     "output_type": "display_data"
    },
    {
     "data": {
      "application/vnd.jupyter.widget-view+json": {
<<<<<<< Updated upstream:FM Magnetization Dynamics - Case III (Case B2).ipynb
       "model_id": "82150760f73a4df8a3eef81d1b832867",
=======
       "model_id": "dad5374c78db447a8ac344ca836f465a",
>>>>>>> Stashed changes:.ipynb_checkpoints/FM Magnetization Dynamics - Case B2-checkpoint.ipynb
       "version_major": 2,
       "version_minor": 0
      },
      "text/plain": [
       "FigureWidget({\n",
       "    'data': [{'line': {'color': 'black', 'width': 4},\n",
       "              'marker': {'color': 'black'…"
      ]
     },
     "metadata": {},
     "output_type": "display_data"
    }
   ],
   "source": [
    "X1s=sol[0]\n",
    "Y1s=sol[1]\n",
    "Z1s=sol[2]\n",
    "\n",
    "fig1 = go.FigureWidget()\n",
    "#NEEL VECTOR1\n",
    "x1 = np.array([0,X1s[0]])\n",
    "y1 = np.array([0,Y1s[0]])\n",
    "z1 = np.array([0,Z1s[0]])\n",
    "f=0.95\n",
    "fig1.add_scatter3d(x=x1*f, y=y1*f, z=z1*f,opacity=0.75,\n",
    "    marker=dict(size=0.1,color='black'),\n",
    "    line=dict(color='black', width=4 ),\n",
    "    name=\"$m$\",showlegend=False)\n",
    "fig1.add_cone(x=[x1[1]], y=[y1[1]], z=z1[[1]], u=[x1[1]+x1[1]], v=[y1[1]+y1[1]], w=[z1[1]+z1[1]],opacity=0.75,showscale=False,anchor=\"tip\",sizemode=\"absolute\",\n",
    "    sizeref=0.1,colorscale=[[0, 'black'], [1,'black']])\n",
    "\n",
    "\n",
    "Y=[0,1,0]\n",
    "m=[X1s[0],Y1s[0],Z1s[0]]\n",
    "DL=np.cross(m,np.cross(m,Y))\n",
    "DL=DL/(5*np.linalg.norm(DL))\n",
    "x = np.array([X1s[0],X1s[0]+DL[0]])\n",
    "y = np.array([Y1s[0],Y1s[0]+DL[1]])\n",
    "z = np.array([Z1s[0],Z1s[0]+DL[2]])\n",
    "\n",
    "#Damping-like Torque\n",
    "#fig1.add_scatter3d(x=x, y=y, z=z,opacity=0.9,\n",
    "#    marker=dict(size=0.1,color='black'),\n",
    "#    line=dict(color='brown', width=5 ),\n",
    "#    name=\"$ \\\\tau_{DL}$\",showlegend=True)\n",
    "\n",
    "fig1.update_layout(\n",
    "    height=700,\n",
    "    width=900,\n",
    "\n",
    "    autosize=True,\n",
    "    scene=dict(camera=dict(up=dict(x=0,y=0, z=1 ), eye=dict(x=1,y=-1,z=1,)),\n",
    "               xaxis_title='mx',\n",
    "               yaxis_title='my',\n",
    "               zaxis_title='mz',\n",
    "               xaxis = dict(nticks=3, range=[-1,1]),\n",
    "               yaxis = dict(nticks=3, range=[-1,1]),\n",
    "               zaxis = dict(nticks=3, range=[-1,1]),\n",
    "        aspectratio = dict( x=1, y=1, z=1),\n",
    "        aspectmode = 'manual'))\n",
    "#CIRCLE IN XY PLANE\n",
    "C1=1\n",
    "phi=np.linspace(0,2*np.pi,100)\n",
    "x=C1*np.cos(phi)\n",
    "y=C1*np.sin(phi)\n",
    "z=C1*np.zeros(len(x))\n",
    "fig1.add_scatter3d(x=x, y=y, z=z,opacity=0.1,\n",
    "    marker=dict(size=0.1,color='grey'),\n",
    "    line=dict(color='grey', width=2 ),\n",
    "    showlegend=False)\n",
    "#CIRCLE IN XZ PLANE\n",
    "phi=np.linspace(0,2*np.pi,100)\n",
    "x=C1*np.cos(phi)\n",
    "y=C1*np.zeros(len(x))\n",
    "z=C1*np.sin(phi)\n",
    "fig1.add_scatter3d(x=x, y=y, z=z,opacity=0.1,\n",
    "    marker=dict(size=0.1,color='grey'),\n",
    "    line=dict(color='grey', width=2 ),\n",
    "    showlegend=False)\n",
    "\n",
    "#CIRCLE IN YZ PLANE\n",
    "phi=np.linspace(0,2*np.pi,100)\n",
    "x=C1*np.zeros(len(x))\n",
    "y=C1*np.cos(phi)\n",
    "z=C1*np.sin(phi)\n",
    "fig1.add_scatter3d(x=x, y=y, z=z,opacity=0.1,\n",
    "    marker=dict(size=0.1,color='grey'),\n",
    "    line=dict(color='grey', width=2 ),\n",
    "    showlegend=False)\n",
    "\n",
    "#CIRCLE IN YZ PLANE\n",
    "phi=np.linspace(-1,1,100)\n",
    "x=C1*np.zeros(len(x))\n",
    "y=C1*np.zeros(len(x))\n",
    "z=phi\n",
    "fig1.add_scatter3d(x=x, y=y, z=z,opacity=0.1,\n",
    "    marker=dict(size=0.1,color='grey'),\n",
    "    line=dict(color='grey', width=2 ),\n",
    "    showlegend=False)\n",
    "#CIRCLE IN YZ PLANE\n",
    "phi=np.linspace(-1,1,100)\n",
    "x=C1*np.zeros(len(x))\n",
    "y=phi\n",
    "z=C1*np.zeros(len(x))\n",
    "fig1.add_scatter3d(x=x, y=y, z=z,opacity=0.1,\n",
    "    marker=dict(size=0.1,color='grey'),\n",
    "    line=dict(color='grey', width=2 ),\n",
    "    showlegend=False)\n",
    "#CIRCLE IN YZ PLANE\n",
    "phi=np.linspace(-1,1,100)\n",
    "x=phi\n",
    "y=C1*np.zeros(len(x))\n",
    "z=C1*np.zeros(len(x))\n",
    "fig1.add_scatter3d(x=x, y=y, z=z,opacity=0.1,\n",
    "    marker=dict(size=0.1,color='grey'),\n",
    "    line=dict(color='grey', width=2 ),\n",
    "    showlegend=False)\n",
    "\n",
    "# UNIT SPHERE\n",
    "theta, phi = np.mgrid[0:2*np.pi:100j, 0:2*np.pi:100j]\n",
    "x = np.sin(theta)*np.sin(phi)\n",
    "y = np.sin(theta)*np.cos(phi)\n",
    "z = np.cos(theta)\n",
    "\n",
    "fig1.add_surface(x=x,y=y,z=z,opacity=0.07,colorscale=[[0, 'purple'], [1,'orange']],showlegend=False, showscale = False)\n",
    "\n",
    "fig1.add_scatter3d(x=X1s, y=Y1s, z=Z1s,opacity=0.25,\n",
    "    marker=dict(size=0.1,color='red'),\n",
    "    line=dict(color='red', width=3),\n",
    "    showlegend=False)\n",
    "\n",
    "#External Field1\n",
    "#norm=2*np.sqrt(float(Hx_value**2+Hy_value**2+Hz_value**2))\n",
    "#x1 = np.array([0,Hx_value/norm])\n",
    "#y1 = np.array([0,Hy_value/norm])\n",
    "#z1 = np.array([0,Hz_value/norm])\n",
    "\n",
    "#fig1.add_scatter3d(x=x1, y=y1, z=z1,opacity=0.75,\n",
    "#    marker=dict(size=0.1,color='black'),\n",
    "#    line=dict(color='green', width=6 ),\n",
    "#    name=\"$H_{applied}$\")\n",
    "#fig1.add_cone(x=[x1[1]], y=[y1[1]], z=z1[[1]], u=[x1[1]+x1[1]], v=[y1[1]+y1[1]], w=[z1[1]+z1[1]],opacity=0.75,showscale=False,anchor=\"tip\",sizemode=\"absolute\",\n",
    "#    sizeref=0.1,colorscale=[[0, 'green'], [1,'green']])\n",
    "\n",
    "#Spin Accumulation\n",
    "\n",
    "#x1 = np.array([0,0])\n",
    "#y1 = np.array([0,0.5])\n",
    "#z1 = np.array([0,0])\n",
    "\n",
    "#fig1.add_scatter3d(x=x1, y=y1, z=z1,opacity=0.75,\n",
    "#    marker=dict(size=0.1,color='black'),\n",
    "#    line=dict(color='yellow', width=6),\n",
    "#    name=\"$\\sigma_{AC}$\")\n",
    "#fig1.add_cone(x=[x1[1]], y=[y1[1]], z=z1[[1]], u=[x1[1]+x1[1]], v=[y1[1]+y1[1]], w=[z1[1]+z1[1]],opacity=0.75,showscale=False,anchor=\"tip\",sizemode=\"absolute\",\n",
    "#sizeref=0.1,colorscale=[[0, 'yellow'], [1,'yellow']])\n",
    "\n",
    "\n",
    "def update(t=0):\n",
    "    with fig1.batch_update():\n",
    "        f=0.9\n",
    "        fig1.data[0].x=[0,f*X1s[t]]\n",
    "        fig1.data[0].y=[0,f*Y1s[t]]\n",
    "        fig1.data[0].z=[0,f*Z1s[t]]\n",
    "        \n",
    "        fig1.data[1].x=[X1s[t]]\n",
    "        fig1.data[1].y=[Y1s[t]]\n",
    "        fig1.data[1].z=[Z1s[t]]\n",
    "        fig1.data[1].u=[2*X1s[t]]\n",
    "        fig1.data[1].v=[2*Y1s[t]]\n",
    "        fig1.data[1].w=[2*Z1s[t]]\n",
    "        \n",
    "        m=[X1s[t],Y1s[t],Z1s[t]]        \n",
    "        DL=np.cross(m,np.cross(m,Y))\n",
    "        DL=DL/3\n",
    "        #DL=DL/(5*np.linalg.norm(DL))\n",
    "        x1 = np.array([X1s[t],X1s[t]+DL[0]])\n",
    "        y1 = np.array([Y1s[t],Y1s[t]+DL[1]])\n",
    "        z1 = np.array([Z1s[t],Z1s[t]+DL[2]])\n",
    "        \n",
    "        \n",
    "\n",
    "        \n",
    "\n",
    "\n",
    "w=interact(update,t=widgets.IntSlider(min=0, max=len(t)-1, step=5, value=0,description=\"Time Step\",readout_format=\".1d\",continuous_update=False))\n",
    "#w=interactive(update,t=(0,number_of_points-1,1)) \n",
    "#w.children[0].description=\"$Time (t)$\"\n",
    "#display(w)\n",
    "fig1\n",
    "\n"
   ]
  },
  {
   "cell_type": "code",
   "execution_count": 17,
   "id": "31040182",
   "metadata": {},
   "outputs": [],
   "source": [
    "pio.write_image(fig1,r\"C:\\Users\\Egecan\\Desktop\\CaseIII.png\",height=1000,width=1200)"
   ]
  },
  {
   "cell_type": "code",
   "execution_count": 12,
   "id": "60efc784",
   "metadata": {},
   "outputs": [],
   "source": [
    "def customplot(X1s,Y1s,Z1s,t):\n",
    "    X1s=sol[0]\n",
    "    Y1s=sol[1]\n",
    "    Z1s=sol[2]\n",
    "\n",
    "    fig1 = go.FigureWidget()\n",
    "    #NEEL VECTOR1\n",
    "    x1 = np.array([0,X1s[t]])\n",
    "    y1 = np.array([0,Y1s[t]])\n",
    "    z1 = np.array([0,Z1s[t]])\n",
    "    f=0.95\n",
    "    fig1.add_scatter3d(x=x1*f, y=y1*f, z=z1*f,opacity=0.75,\n",
    "        marker=dict(size=0.1,color='black'),\n",
    "        line=dict(color='black', width=4 ),\n",
    "        name=\"$m$\",showlegend=False)\n",
    "    fig1.add_cone(x=[x1[1]], y=[y1[1]], z=z1[[1]], u=[x1[1]+x1[1]], v=[y1[1]+y1[1]], w=[z1[1]+z1[1]],opacity=0.75,showscale=False,anchor=\"tip\",sizemode=\"absolute\",\n",
    "        sizeref=0.1,colorscale=[[0, 'black'], [1,'black']])\n",
    "\n",
    "    fig1.update_layout(\n",
    "        height=700,\n",
    "        width=700,\n",
    "\n",
    "        autosize=True,\n",
    "        scene=dict(camera=dict(up=dict(x=0,y=0, z=1 ), eye=dict(x=1.3,y=0.9,z=0.8,)),\n",
    "                   xaxis_title='mx',\n",
    "                   yaxis_title='my',\n",
    "                   zaxis_title='mz',\n",
    "                   xaxis = dict(nticks=3, range=[-1,1]),\n",
    "                   yaxis = dict(nticks=3, range=[-1,1]),\n",
    "                   zaxis = dict(nticks=3, range=[-1,1]),\n",
    "            aspectratio = dict( x=1, y=1, z=1),\n",
    "            aspectmode = 'manual'))\n",
    "    #CIRCLE IN XY PLANE2\n",
    "    C1=1\n",
    "    phi=np.linspace(0,2*np.pi,100)\n",
    "    x=C1*np.cos(phi)\n",
    "    y=C1*np.sin(phi)\n",
    "    z=C1*np.zeros(len(x))\n",
    "    fig1.add_scatter3d(x=x, y=y, z=z,opacity=0.1,\n",
    "        marker=dict(size=0.1,color='grey'),\n",
    "        line=dict(color='grey', width=2 ),\n",
    "        showlegend=False)\n",
    "    #CIRCLE IN XZ PLANE\n",
    "    phi=np.linspace(0,2*np.pi,100)\n",
    "    x=C1*np.cos(phi)\n",
    "    y=C1*np.zeros(len(x))\n",
    "    z=C1*np.sin(phi)\n",
    "    fig1.add_scatter3d(x=x, y=y, z=z,opacity=0.1,\n",
    "        marker=dict(size=0.1,color='grey'),\n",
    "        line=dict(color='grey', width=2 ),\n",
    "        showlegend=False)\n",
    "\n",
    "    #CIRCLE IN YZ PLANE\n",
    "    phi=np.linspace(0,2*np.pi,100)\n",
    "    x=C1*np.zeros(len(x))\n",
    "    y=C1*np.cos(phi)\n",
    "    z=C1*np.sin(phi)\n",
    "    fig1.add_scatter3d(x=x, y=y, z=z,opacity=0.1,\n",
    "        marker=dict(size=0.1,color='grey'),\n",
    "        line=dict(color='grey', width=2 ),\n",
    "        showlegend=False)\n",
    "\n",
    "    #CIRCLE IN YZ PLANE\n",
    "    phi=np.linspace(-1,1,100)\n",
    "    x=C1*np.zeros(len(x))\n",
    "    y=C1*np.zeros(len(x))\n",
    "    z=phi\n",
    "    fig1.add_scatter3d(x=x, y=y, z=z,opacity=0.1,\n",
    "        marker=dict(size=0.1,color='grey'),\n",
    "        line=dict(color='grey', width=2 ),\n",
    "        showlegend=False)\n",
    "    #CIRCLE IN YZ PLANE\n",
    "    phi=np.linspace(-1,1,100)\n",
    "    x=C1*np.zeros(len(x))\n",
    "    y=phi\n",
    "    z=C1*np.zeros(len(x))\n",
    "    fig1.add_scatter3d(x=x, y=y, z=z,opacity=0.1,\n",
    "        marker=dict(size=0.1,color='grey'),\n",
    "        line=dict(color='grey', width=2 ),\n",
    "        showlegend=False)\n",
    "    #CIRCLE IN YZ PLANE\n",
    "    phi=np.linspace(-1,1,100)\n",
    "    x=phi\n",
    "    y=C1*np.zeros(len(x))\n",
    "    z=C1*np.zeros(len(x))\n",
    "    fig1.add_scatter3d(x=x, y=y, z=z,opacity=0.1,\n",
    "        marker=dict(size=0.1,color='grey'),\n",
    "        line=dict(color='grey', width=2 ),\n",
    "        showlegend=False)\n",
    "\n",
    "    # UNIT SPHERE\n",
    "    theta, phi = np.mgrid[0:2*np.pi:100j, 0:2*np.pi:100j]\n",
    "    x = np.sin(theta)*np.sin(phi)\n",
    "    y = np.sin(theta)*np.cos(phi)\n",
    "    z = np.cos(theta)\n",
    "\n",
    "    fig1.add_surface(x=x,y=y,z=z,opacity=0.07,colorscale=[[0, 'purple'], [1,'orange']],showlegend=False, showscale = False)\n",
    "\n",
    "    fig1.add_scatter3d(x=X1s, y=Y1s, z=Z1s,opacity=0.25,\n",
    "        marker=dict(size=0.1,color='red'),\n",
    "        line=dict(color='red', width=3),\n",
    "        showlegend=False)\n",
    "\n",
    "    if t<10:\n",
    "        name=\"000\"+str(t)\n",
    "    elif t<100:\n",
    "        name=\"00\"+str(t)\n",
    "    elif t<1000:\n",
    "        name=\"0\"+str(t)\n",
    "    elif t<10000:\n",
    "        name=str(t)\n",
    "    pio.write_image(fig1,r\"C:\\Users\\Egecan\\Desktop\\GIF\\\\\"+name+\".png\",height=1000,width=1200)\n",
    "\n",
    "    \n",
    "    \n",
    "    \n",
    "    "
   ]
  },
  {
   "cell_type": "code",
   "execution_count": 18,
   "id": "62bab1f8",
   "metadata": {},
   "outputs": [],
   "source": [
    "#customrange=np.append(np.arange(0,1000,20),)\n",
    "#customrange=np.arange(0,1000,20)\n",
    "#customrange=np.arange(0,550,2)\n",
    "#for i in customrange:\n",
    "#    customplot(X1s,Y1s,Z1s,i)"
   ]
  }
 ],
 "metadata": {
  "kernelspec": {
   "display_name": "Python 3",
   "language": "python",
   "name": "python3"
  },
  "language_info": {
   "codemirror_mode": {
    "name": "ipython",
    "version": 3
   },
   "file_extension": ".py",
   "mimetype": "text/x-python",
   "name": "python",
   "nbconvert_exporter": "python",
   "pygments_lexer": "ipython3",
   "version": "3.7.10"
  }
 },
 "nbformat": 4,
 "nbformat_minor": 5
}
