{
 "cells": [
  {
   "cell_type": "code",
   "execution_count": 1,
   "id": "e9a86d2b",
   "metadata": {},
   "outputs": [],
   "source": [
    "import numpy as np\n",
    "import matplotlib.pyplot as plt\n",
    "import scipy as sp\n",
    "from scipy.integrate import odeint\n",
    "from scipy.integrate import solve_ivp\n",
    "import pandas as pd\n",
    "\n",
    "import plotly.express as px\n",
    "from ipywidgets import interact\n",
    "from ipywidgets import interactive\n",
    "from ipywidgets import widgets\n",
    "import sympy as smp\n",
    "from scipy.integrate import odeint\n",
    "import plotly.graph_objects as go\n",
    "from IPython.display import HTML"
   ]
  },
  {
   "cell_type": "markdown",
   "id": "ac764655",
   "metadata": {},
   "source": [
    "# First order ODEs\n",
    "\n",
    "$$ \\dot{m_x} =\\gamma(m_{y}H_{z}-m_{z}H_{y}) \\hspace{10mm} m_x(0)=0$$\n",
    "$$ \\dot{m_y} =\\gamma(m_{z}H_{x}-m_{x}H_{z}) \\hspace{10mm} m_y(0)=0$$\n",
    "$$ \\dot{m_z} =\\gamma(m_{x}H_{y}-m_{y}H_{x}) \\hspace{10mm} m_z(0)=0$$\n",
    "\n",
    "Letting $S=(m_x, m_y,m_x)$ we need to write a function that returns $dS/dt = (\\dot{m}_{x}, \\dot{m}_{y}, \\dot{m}_{z})$. The function $dS/dt$ can take in $S=(m_x, m_y, m_z)$ and $t$. This is like before, but in vector format\n",
    "\n",
    "$$ \\vec{S} = \\begin{bmatrix} m_x \\\\ m_y \\\\ m_z \\end{bmatrix} \\hspace{10mm} \\implies  \\hspace{10mm} \\frac{d\\vec{S}}{dt} = \\vec{f}(t, \\vec{S}) = \\vec{f}(t, m_x, m_y, m_z) =  \\begin{bmatrix}\\dot{m_x} \\\\ \\dot{m_y} \\\\ \\dot{m_z} \\end{bmatrix}  = \\begin{bmatrix}  \\gamma(m_{y}H_{z}-m_{z}H_{y})\\\\ \\gamma(m_{z}H_{x}-m_{x}H_{z}) \\\\ \\gamma(m_{x}H_{y}-m_{y}H_{x}) \\end{bmatrix}$$"
   ]
  },
  {
   "cell_type": "code",
   "execution_count": 2,
   "id": "885c89cf",
   "metadata": {},
   "outputs": [],
   "source": [
    "def dSdx(x, S):\n",
    "    y1, y2 = S\n",
    "    return [y1 + y2**2  + 3*x,\n",
    "           3*y1 + y2**3 - np.cos(x)]\n",
    "y1_0 = 0\n",
    "y2_0 = 0\n",
    "S_0 = (y1_0, y2_0)"
   ]
  },
  {
   "cell_type": "code",
   "execution_count": 3,
   "id": "fb754cee",
   "metadata": {},
   "outputs": [],
   "source": [
    "H=[0,0,10]\n",
    "Hx,Hy,Hz=H[0],H[1],H[2]"
   ]
  },
  {
   "cell_type": "code",
   "execution_count": 4,
   "id": "cb13127f",
   "metadata": {},
   "outputs": [],
   "source": [
    "g=1\n",
    "def dSdt(t, S):\n",
    "    mx, my, mz = S\n",
    "    return [g*(my*Hz-mz*Hy),g*(mz*Hx-mx*Hz),g*(mx*Hy-my*Hx)]\n",
    "mx_0 = 0\n",
    "my_0 = np.sin(np.pi/6)\n",
    "mz_0 = np.cos(np.pi/6)\n",
    "S_0 = (mx_0, my_0, mz_0)"
   ]
  },
  {
   "cell_type": "code",
   "execution_count": 5,
   "id": "0f99feaa",
   "metadata": {},
   "outputs": [],
   "source": [
    "t = np.linspace(0, 10, 1000)\n",
    "sol = odeint(dSdt, y0=S_0, t=t, tfirst=True)"
   ]
  },
  {
   "cell_type": "code",
   "execution_count": 6,
   "id": "b6c8f21c",
   "metadata": {
    "scrolled": true
   },
   "outputs": [
    {
     "data": {
      "image/png": "[encoded data removed]",
      "text/plain": [
       "<Figure size 432x288 with 1 Axes>"
      ]
     },
     "metadata": {
      "needs_background": "light"
     },
     "output_type": "display_data"
    }
   ],
   "source": [
    "fig,ax=plt.subplots()\n",
    "plt.plot(sol.T[0],sol.T[1])\n",
    "ax.set_xlim(-1,1)\n",
    "ax.set_ylim(-1,1)\n",
    "ax.set_aspect(\"equal\")\n"
   ]
  },
  {
   "cell_type": "code",
   "execution_count": 7,
   "id": "dc845ea1",
   "metadata": {},
   "outputs": [
    {
     "data": {
      "application/vnd.jupyter.widget-view+json": {
       "model_id": "a19152843594424d996d8f6368e9937e",
       "version_major": 2,
       "version_minor": 0
      },
      "text/plain": [
       "interactive(children=(IntSlider(value=0, description='$Time (t)$', max=99), Output()), _dom_classes=('widget-i…"
      ]
     },
     "metadata": {},
     "output_type": "display_data"
    },
    {
     "data": {
      "application/vnd.jupyter.widget-view+json": {
       "model_id": "0c78fa4747e64c89a5d8e252e0740a1a",
       "version_major": 2,
       "version_minor": 0
      },
      "text/plain": [
       "FigureWidget({\n",
       "    'data': [{'line': {'color': 'black', 'width': 4},\n",
       "              'marker': {'color': 'black'…"
      ]
     },
     "metadata": {},
     "output_type": "display_data"
    }
   ],
   "source": [
    "fig1 = go.FigureWidget()\n",
    "\n",
    "#NEEL VECTOR\n",
    "x = np.array([0,1])\n",
    "y = np.array([0,0])\n",
    "z = np.array([0,0])\n",
    "fig1.add_scatter3d(x=x, y=y, z=z,\n",
    "    marker=dict(size=0.1,color='black'),\n",
    "    line=dict(color='black', width=4 ),\n",
    "    name=\"Néel Vector\")\n",
    "fig1.add_cone(x=[x[1]], y=[y[1]], z=z[[1]], u=[x[1]+x[1]], v=[y[1]+y[1]], w=[z[1]+z[1]],showscale=False,anchor=\"tip\",sizemode=\"absolute\",\n",
    "    sizeref=0.1,colorscale=[[0, '#000000'], [1,'#000000']])\n",
    "\n",
    "\n",
    "fig1.update_layout(\n",
    "    height=700,\n",
    "    width=900,\n",
    "\n",
    "    autosize=True,\n",
    "    scene=dict(camera=dict(up=dict(x=0,y=0, z=1 ), eye=dict(x=-1,y=1,z=1,)),\n",
    "               xaxis = dict(nticks=6, range=[-2,2]),\n",
    "               yaxis = dict(nticks=6, range=[-2,2]),\n",
    "               zaxis = dict(nticks=6, range=[-2,2]),\n",
    "        aspectratio = dict( x=1, y=1, z=1),\n",
    "        aspectmode = 'manual'))\n",
    "#CIRCLE IN XY PLANE\n",
    "C1=1.076\n",
    "phi=np.linspace(0,2*np.pi,100)\n",
    "x=C1*np.cos(phi)\n",
    "y=C1*np.sin(phi)\n",
    "z=C1*np.zeros(len(x))\n",
    "fig1.add_scatter3d(x=x, y=y, z=z,opacity=0.3,\n",
    "    marker=dict(size=0.1,color='grey'),\n",
    "    line=dict(color='grey', width=2 ),\n",
    "    showlegend=False)\n",
    "#CIRCLE IN XZ PLANE\n",
    "phi=np.linspace(0,2*np.pi,100)\n",
    "x=C1*np.cos(phi)\n",
    "y=C1*np.zeros(len(x))\n",
    "z=C1*np.sin(phi)\n",
    "fig1.add_scatter3d(x=x, y=y, z=z,opacity=0.3,\n",
    "    marker=dict(size=0.1,color='grey'),\n",
    "    line=dict(color='grey', width=2 ),\n",
    "    showlegend=False)\n",
    "x=sol.T[0]\n",
    "y=sol.T[1]\n",
    "z=sol.T[2]\n",
    "fig1.add_scatter3d(x=x, y=y, z=z,opacity=0.3,\n",
    "    marker=dict(size=0.1,color='red'),\n",
    "    line=dict(color='red', width=2 ),\n",
    "    showlegend=False)\n",
    "\n",
    "\n",
    "Xs=sol.T[0]\n",
    "Ys=sol.T[1]\n",
    "Zs=sol.T[2]\n",
    "def update(t=0):\n",
    "    \n",
    "    \n",
    "    with fig1.batch_update():\n",
    "        \n",
    "        fig1.data[0].x=[0,Xs[t]]\n",
    "        fig1.data[0].y=[0,Ys[t]]\n",
    "        fig1.data[0].z=[0,Zs[t]]\n",
    "        \n",
    "        fig1.data[1].x=[Xs[t]]\n",
    "        fig1.data[1].y=[Ys[t]]\n",
    "        fig1.data[1].z=[Zs[t]]\n",
    "        fig1.data[1].u=[2*Xs[t]]\n",
    "        fig1.data[1].v=[2*Ys[t]]\n",
    "        fig1.data[1].w=[2*Zs[t]]\n",
    "        \n",
    "w=interactive(update,t=(0,99,1)) \n",
    "w.children[0].description=\"$Time (t)$\"\n",
    "\n",
    "display(w)\n",
    "fig1"
   ]
  },
  {
   "cell_type": "markdown",
   "id": "ba035654",
   "metadata": {},
   "source": [
    "# First order ODEs\n",
    "\n",
    "$$ \\dot{m_x} =\\gamma(m_{y}H_{z}-m_{z}H_{y})+\\alpha(m_{y}\\dot{m}_{z}-m_{z}\\dot{m}_{y}) \\hspace{10mm} m_x(0)=0$$\n",
    "$$ \\dot{m_y} =\\gamma(m_{z}H_{x}-m_{x}H_{z})+\\alpha(m_{z}\\dot{m}_{x}-m_{x}\\dot{m}_{z}) \\hspace{10mm} m_y(0)=0$$\n",
    "$$ \\dot{m_z} =\\gamma(m_{x}H_{y}-m_{y}H_{x})+\\alpha(m_{x}\\dot{m}_{y}-m_{y}\\dot{m}_{x}) \\hspace{10mm} m_z(0)=0$$\n",
    "\n",
    "Letting $S=(m_x, m_y,m_x)$ we need to write a function that returns $dS/dt = (\\dot{m}_{x}, \\dot{m}_{y}, \\dot{m}_{z})$. The function $dS/dt$ can take in $S=(m_x, m_y, m_z)$ and $t$. This is like before, but in vector format\n",
    "\n",
    "$$ \\vec{S} = \\begin{bmatrix} m_x \\\\ m_y \\\\ m_z \\end{bmatrix} \\hspace{10mm} \\implies  \\hspace{10mm} \\frac{d\\vec{S}}{dt} = \\vec{f}(t, \\vec{S}) = \\vec{f}(t, m_x, m_y, m_z) =  \\begin{bmatrix}\\dot{m_x} \\\\ \\dot{m_y} \\\\ \\dot{m_z} \\end{bmatrix}  = \\begin{bmatrix}  \\gamma(m_{y}H_{z}-m_{z}H_{y})\\\\ \\gamma(m_{z}H_{x}-m_{x}H_{z}) \\\\ \\gamma(m_{x}H_{y}-m_{y}H_{x}) \\end{bmatrix}$$"
   ]
  },
  {
   "cell_type": "code",
   "execution_count": 8,
   "id": "7cf08555",
   "metadata": {},
   "outputs": [],
   "source": [
    "g=-1\n",
    "a=0.1\n",
    "\n",
    "H=[0,0,1]\n",
    "Hx,Hy,Hz=H[0],H[1],H[2]\n",
    "def dSdt2(t, S):\n",
    "    mx, my, mz = S\n",
    "    return [g*(-Hx*a*my*my-Hx*a*mz*mz+Hy*a*mx*my-Hy*mz+Hz*a*mx*mz+Hz*my)/(a**2*(mx**2+my**2+mz**2)+1),\n",
    "            g*(+Hx*a*mx*my+Hx*mz-Hy*a*mx*mx-Hy*a*mz*mz+Hz*a*my*mz-Hz*mx)/(a**2*(mx**2+my**2+mz**2)+1),\n",
    "            g*(+Hx*a*mx*mz-Hx*my+Hy*a*my*mz+Hy*mx-Hz*a*mx*mx-Hz*a*my*my)/(a**2*(mx**2+my**2+mz**2)+1)]\n",
    "\n",
    "theta=179*np.pi/180   \n",
    "mx_0 = 0\n",
    "my_0 = np.sin(theta)\n",
    "mz_0 = np.cos(theta)\n",
    "S_0 = (mx_0, my_0, mz_0)"
   ]
  },
  {
   "cell_type": "code",
   "execution_count": 9,
   "id": "456629b0",
   "metadata": {},
   "outputs": [],
   "source": [
    "t = np.linspace(0, 100, 1000)\n",
    "sol = odeint(dSdt2, y0=S_0, t=t, tfirst=True)"
   ]
  },
  {
   "cell_type": "code",
   "execution_count": 10,
   "id": "ddac0069",
   "metadata": {
    "scrolled": false
   },
   "outputs": [
    {
     "data": {
      "application/vnd.jupyter.widget-view+json": {
       "model_id": "6ac245aba6e04ba39ffe47631b953f91",
       "version_major": 2,
       "version_minor": 0
      },
      "text/plain": [
       "interactive(children=(IntSlider(value=0, description='$Time (t)$', max=999), Output()), _dom_classes=('widget-…"
      ]
     },
     "metadata": {},
     "output_type": "display_data"
    },
    {
     "data": {
      "application/vnd.jupyter.widget-view+json": {
       "model_id": "bc63dc770553492c8631aa8528688edd",
       "version_major": 2,
       "version_minor": 0
      },
      "text/plain": [
       "FigureWidget({\n",
       "    'data': [{'line': {'color': 'black', 'width': 4},\n",
       "              'marker': {'color': 'black'…"
      ]
     },
     "metadata": {},
     "output_type": "display_data"
    }
   ],
   "source": [
    "fig1 = go.FigureWidget()\n",
    "\n",
    "\n",
    "\n",
    "#NEEL VECTOR\n",
    "x = np.array([0,1])\n",
    "y = np.array([0,0])\n",
    "z = np.array([0,0])\n",
    "fig1.add_scatter3d(x=x, y=y, z=z,\n",
    "    marker=dict(size=0.1,color='black'),\n",
    "    line=dict(color='black', width=4 ),\n",
    "    name=\"Néel Vector\",showlegend=False)\n",
    "fig1.add_cone(x=[x[1]], y=[y[1]], z=z[[1]], u=[x[1]+x[1]], v=[y[1]+y[1]], w=[z[1]+z[1]],showscale=False,anchor=\"tip\",sizemode=\"absolute\",\n",
    "    sizeref=0.1,colorscale=[[0, '#000000'], [1,'#000000']])\n",
    "\n",
    "\n",
    "fig1.update_layout(\n",
    "    height=700,\n",
    "    width=900,\n",
    "\n",
    "    autosize=True,\n",
    "    scene=dict(camera=dict(up=dict(x=0,y=0, z=1 ), eye=dict(x=-1,y=1,z=1,)),\n",
    "               xaxis = dict(nticks=6, range=[-2,2]),\n",
    "               yaxis = dict(nticks=6, range=[-2,2]),\n",
    "               zaxis = dict(nticks=6, range=[-2,2]),\n",
    "        aspectratio = dict( x=1, y=1, z=1),\n",
    "        aspectmode = 'manual'))\n",
    "#CIRCLE IN XY PLANE\n",
    "C1=1\n",
    "phi=np.linspace(0,2*np.pi,100)\n",
    "x=C1*np.cos(phi)\n",
    "y=C1*np.sin(phi)\n",
    "z=C1*np.zeros(len(x))\n",
    "fig1.add_scatter3d(x=x, y=y, z=z,opacity=0.3,\n",
    "    marker=dict(size=0.1,color='grey'),\n",
    "    line=dict(color='grey', width=2 ),\n",
    "    showlegend=False)\n",
    "#CIRCLE IN XZ PLANE\n",
    "phi=np.linspace(0,2*np.pi,100)\n",
    "x=C1*np.cos(phi)\n",
    "y=C1*np.zeros(len(x))\n",
    "z=C1*np.sin(phi)\n",
    "fig1.add_scatter3d(x=x, y=y, z=z,opacity=0.3,\n",
    "    marker=dict(size=0.1,color='grey'),\n",
    "    line=dict(color='grey', width=2 ),\n",
    "    showlegend=False)\n",
    "\n",
    "#CIRCLE IN YZ PLANE\n",
    "phi=np.linspace(0,2*np.pi,100)\n",
    "x=C1*np.zeros(len(x))\n",
    "y=C1*np.cos(phi)\n",
    "z=C1*np.sin(phi)\n",
    "fig1.add_scatter3d(x=x, y=y, z=z,opacity=0.3,\n",
    "    marker=dict(size=0.1,color='grey'),\n",
    "    line=dict(color='grey', width=2 ),\n",
    "    showlegend=False)\n",
    "\n",
    "#CIRCLE IN YZ PLANE\n",
    "phi=np.linspace(-1,1,100)\n",
    "x=C1*np.zeros(len(x))\n",
    "y=C1*np.zeros(len(x))\n",
    "z=phi\n",
    "fig1.add_scatter3d(x=x, y=y, z=z,opacity=0.3,\n",
    "    marker=dict(size=0.1,color='grey'),\n",
    "    line=dict(color='grey', width=2 ),\n",
    "    showlegend=False)\n",
    "#CIRCLE IN YZ PLANE\n",
    "phi=np.linspace(-1,1,100)\n",
    "x=C1*np.zeros(len(x))\n",
    "y=phi\n",
    "z=C1*np.zeros(len(x))\n",
    "fig1.add_scatter3d(x=x, y=y, z=z,opacity=0.3,\n",
    "    marker=dict(size=0.1,color='grey'),\n",
    "    line=dict(color='grey', width=2 ),\n",
    "    showlegend=False)\n",
    "#CIRCLE IN YZ PLANE\n",
    "phi=np.linspace(-1,1,100)\n",
    "x=phi\n",
    "y=C1*np.zeros(len(x))\n",
    "z=C1*np.zeros(len(x))\n",
    "fig1.add_scatter3d(x=x, y=y, z=z,opacity=0.3,\n",
    "    marker=dict(size=0.1,color='grey'),\n",
    "    line=dict(color='grey', width=2 ),\n",
    "    showlegend=False)\n",
    "\n",
    "x=sol.T[0]\n",
    "y=sol.T[1]\n",
    "z=sol.T[2]\n",
    "\n",
    "\n",
    "fig1.add_scatter3d(x=x, y=y, z=z,opacity=0.5,\n",
    "    marker=dict(size=1),\n",
    "    line=dict(color='red', width=1 ),\n",
    "    showlegend=False)\n",
    "\n",
    "#x = np.array([0,0.2])\n",
    "#y = np.array([0,0])\n",
    "#z = np.array([0,0])\n",
    "#fig1.add_scatter3d(x=x, y=y, z=z,\n",
    "#    marker=dict(size=0.1,color='blue'),\n",
    "#    line=dict(color='blue', width=1 ))\n",
    "#fig1.add_cone(x=[x[1]], y=[y[1]], z=z[[1]], u=[x[1]+x[1]], v=[y[1]+y[1]], w=[z[1]+z[1]],showscale=False,anchor=\"tip\",sizemode=\"absolute\",\n",
    "#    sizeref=0.05,colorscale=[[0, '#000000'], [1,'#000000']])\n",
    "\n",
    "theta, phi = np.mgrid[0:2*np.pi:100j, 0:2*np.pi:100j]\n",
    "x = np.sin(theta)*np.sin(phi)\n",
    "y = np.sin(theta)*np.cos(phi)\n",
    "z = np.cos(theta)\n",
    "\n",
    "fig1.add_surface(x=x,y=y,z=z,opacity=0.05,colorscale=[[0, 'yellow'], [1,'purple']],showlegend=False, showscale = False)\n",
    "\n",
    "Xs=sol.T[0]\n",
    "Ys=sol.T[1]\n",
    "Zs=sol.T[2]\n",
    "def update(t=0):\n",
    "    \n",
    "    with fig1.batch_update():\n",
    "        \n",
    "        fig1.data[0].x=[0,Xs[t]]\n",
    "        fig1.data[0].y=[0,Ys[t]]\n",
    "        fig1.data[0].z=[0,Zs[t]]\n",
    "        \n",
    "        fig1.data[1].x=[Xs[t]]\n",
    "        fig1.data[1].y=[Ys[t]]\n",
    "        fig1.data[1].z=[Zs[t]]\n",
    "        fig1.data[1].u=[2*Xs[t]]\n",
    "        fig1.data[1].v=[2*Ys[t]]\n",
    "        fig1.data[1].w=[2*Zs[t]]\n",
    "        \n",
    "w=interactive(update,t=(0,999,1)) \n",
    "w.children[0].description=\"$Time (t)$\"\n",
    "\n",
    "display(w)\n",
    "fig1"
   ]
  },
  {
   "cell_type": "code",
   "execution_count": 11,
   "id": "27e0d6dd",
   "metadata": {},
   "outputs": [
    {
     "ename": "NameError",
     "evalue": "name 'xx' is not defined",
     "output_type": "error",
     "traceback": [
      "\u001b[1;31m---------------------------------------------------------------------------\u001b[0m",
      "\u001b[1;31mNameError\u001b[0m                                 Traceback (most recent call last)",
      "\u001b[1;32m~\\AppData\\Local\\Temp/ipykernel_2376/2847054484.py\u001b[0m in \u001b[0;36m<module>\u001b[1;34m\u001b[0m\n\u001b[0;32m      1\u001b[0m fig1 = go.FigureWidget(\n\u001b[1;32m----> 2\u001b[1;33m     frames=[go.Frame(\n\u001b[0m\u001b[0;32m      3\u001b[0m         data=[go.Scatter(\n\u001b[0;32m      4\u001b[0m             \u001b[0mx\u001b[0m\u001b[1;33m=\u001b[0m\u001b[1;33m[\u001b[0m\u001b[0mxx\u001b[0m\u001b[1;33m[\u001b[0m\u001b[0mk\u001b[0m\u001b[1;33m]\u001b[0m\u001b[1;33m]\u001b[0m\u001b[1;33m,\u001b[0m\u001b[1;33m\u001b[0m\u001b[1;33m\u001b[0m\u001b[0m\n\u001b[0;32m      5\u001b[0m             \u001b[0my\u001b[0m\u001b[1;33m=\u001b[0m\u001b[1;33m[\u001b[0m\u001b[0myy\u001b[0m\u001b[1;33m[\u001b[0m\u001b[0mk\u001b[0m\u001b[1;33m]\u001b[0m\u001b[1;33m]\u001b[0m\u001b[1;33m,\u001b[0m\u001b[1;33m\u001b[0m\u001b[1;33m\u001b[0m\u001b[0m\n",
      "\u001b[1;32m~\\AppData\\Local\\Temp/ipykernel_2376/2847054484.py\u001b[0m in \u001b[0;36m<listcomp>\u001b[1;34m(.0)\u001b[0m\n\u001b[0;32m      2\u001b[0m     frames=[go.Frame(\n\u001b[0;32m      3\u001b[0m         data=[go.Scatter(\n\u001b[1;32m----> 4\u001b[1;33m             \u001b[0mx\u001b[0m\u001b[1;33m=\u001b[0m\u001b[1;33m[\u001b[0m\u001b[0mxx\u001b[0m\u001b[1;33m[\u001b[0m\u001b[0mk\u001b[0m\u001b[1;33m]\u001b[0m\u001b[1;33m]\u001b[0m\u001b[1;33m,\u001b[0m\u001b[1;33m\u001b[0m\u001b[1;33m\u001b[0m\u001b[0m\n\u001b[0m\u001b[0;32m      5\u001b[0m             \u001b[0my\u001b[0m\u001b[1;33m=\u001b[0m\u001b[1;33m[\u001b[0m\u001b[0myy\u001b[0m\u001b[1;33m[\u001b[0m\u001b[0mk\u001b[0m\u001b[1;33m]\u001b[0m\u001b[1;33m]\u001b[0m\u001b[1;33m,\u001b[0m\u001b[1;33m\u001b[0m\u001b[1;33m\u001b[0m\u001b[0m\n\u001b[0;32m      6\u001b[0m             \u001b[0mmode\u001b[0m\u001b[1;33m=\u001b[0m\u001b[1;34m\"markers\"\u001b[0m\u001b[1;33m,\u001b[0m\u001b[1;33m\u001b[0m\u001b[1;33m\u001b[0m\u001b[0m\n",
      "\u001b[1;31mNameError\u001b[0m: name 'xx' is not defined"
     ]
    }
   ],
   "source": [
    "fig1 = go.FigureWidget(\n",
    "    frames=[go.Frame(\n",
    "        data=[go.Scatter(\n",
    "            x=[xx[k]],\n",
    "            y=[yy[k]],\n",
    "            mode=\"markers\",\n",
    "            marker=dict(color=\"red\", size=10))])\n",
    "\n",
    "        for k in range(999)])\n",
    "\n",
    "\n",
    "\n",
    "#NEEL VECTOR\n",
    "x = np.array([0,1])\n",
    "y = np.array([0,0])\n",
    "z = np.array([0,0])\n",
    "fig1.add_scatter3d(x=x, y=y, z=z,\n",
    "    marker=dict(size=0.1,color='black'),\n",
    "    line=dict(color='black', width=4 ),\n",
    "    name=\"Néel Vector\",showlegend=False)\n",
    "fig1.add_cone(x=[x[1]], y=[y[1]], z=z[[1]], u=[x[1]+x[1]], v=[y[1]+y[1]], w=[z[1]+z[1]],showscale=False,anchor=\"tip\",sizemode=\"absolute\",\n",
    "    sizeref=0.1,colorscale=[[0, '#000000'], [1,'#000000']])\n",
    "\n",
    "\n",
    "fig1.update_layout(\n",
    "    height=700,\n",
    "    width=900,\n",
    "\n",
    "    autosize=True,\n",
    "    scene=dict(camera=dict(up=dict(x=0,y=0, z=1 ), eye=dict(x=-1,y=1,z=1,)),\n",
    "               xaxis = dict(nticks=6, range=[-2,2]),\n",
    "               yaxis = dict(nticks=6, range=[-2,2]),\n",
    "               zaxis = dict(nticks=6, range=[-2,2]),\n",
    "        aspectratio = dict( x=1, y=1, z=1),\n",
    "        aspectmode = 'manual'))\n",
    "#CIRCLE IN XY PLANE\n",
    "C1=1\n",
    "phi=np.linspace(0,2*np.pi,100)\n",
    "x=C1*np.cos(phi)\n",
    "y=C1*np.sin(phi)\n",
    "z=C1*np.zeros(len(x))\n",
    "fig1.add_scatter3d(x=x, y=y, z=z,opacity=0.3,\n",
    "    marker=dict(size=0.1,color='grey'),\n",
    "    line=dict(color='grey', width=2 ),\n",
    "    showlegend=False)\n",
    "#CIRCLE IN XZ PLANE\n",
    "phi=np.linspace(0,2*np.pi,100)\n",
    "x=C1*np.cos(phi)\n",
    "y=C1*np.zeros(len(x))\n",
    "z=C1*np.sin(phi)\n",
    "fig1.add_scatter3d(x=x, y=y, z=z,opacity=0.3,\n",
    "    marker=dict(size=0.1,color='grey'),\n",
    "    line=dict(color='grey', width=2 ),\n",
    "    showlegend=False)\n",
    "\n",
    "#CIRCLE IN YZ PLANE\n",
    "phi=np.linspace(0,2*np.pi,100)\n",
    "x=C1*np.zeros(len(x))\n",
    "y=C1*np.cos(phi)\n",
    "z=C1*np.sin(phi)\n",
    "fig1.add_scatter3d(x=x, y=y, z=z,opacity=0.3,\n",
    "    marker=dict(size=0.1,color='grey'),\n",
    "    line=dict(color='grey', width=2 ),\n",
    "    showlegend=False)\n",
    "\n",
    "#CIRCLE IN YZ PLANE\n",
    "phi=np.linspace(-1,1,100)\n",
    "x=C1*np.zeros(len(x))\n",
    "y=C1*np.zeros(len(x))\n",
    "z=phi\n",
    "fig1.add_scatter3d(x=x, y=y, z=z,opacity=0.3,\n",
    "    marker=dict(size=0.1,color='grey'),\n",
    "    line=dict(color='grey', width=2 ),\n",
    "    showlegend=False)\n",
    "#CIRCLE IN YZ PLANE\n",
    "phi=np.linspace(-1,1,100)\n",
    "x=C1*np.zeros(len(x))\n",
    "y=phi\n",
    "z=C1*np.zeros(len(x))\n",
    "fig1.add_scatter3d(x=x, y=y, z=z,opacity=0.3,\n",
    "    marker=dict(size=0.1,color='grey'),\n",
    "    line=dict(color='grey', width=2 ),\n",
    "    showlegend=False)\n",
    "#CIRCLE IN YZ PLANE\n",
    "phi=np.linspace(-1,1,100)\n",
    "x=phi\n",
    "y=C1*np.zeros(len(x))\n",
    "z=C1*np.zeros(len(x))\n",
    "fig1.add_scatter3d(x=x, y=y, z=z,opacity=0.3,\n",
    "    marker=dict(size=0.1,color='grey'),\n",
    "    line=dict(color='grey', width=2 ),\n",
    "    showlegend=False)\n",
    "\n",
    "x=sol.T[0]\n",
    "y=sol.T[1]\n",
    "z=sol.T[2]\n",
    "\n",
    "\n",
    "fig1.add_scatter3d(x=x, y=y, z=z,opacity=0.5,\n",
    "    marker=dict(size=1),\n",
    "    line=dict(color='red', width=1 ),\n",
    "    showlegend=False)\n",
    "\n",
    "#x = np.array([0,0.2])\n",
    "#y = np.array([0,0])\n",
    "#z = np.array([0,0])\n",
    "#fig1.add_scatter3d(x=x, y=y, z=z,\n",
    "#    marker=dict(size=0.1,color='blue'),\n",
    "#    line=dict(color='blue', width=1 ))\n",
    "#fig1.add_cone(x=[x[1]], y=[y[1]], z=z[[1]], u=[x[1]+x[1]], v=[y[1]+y[1]], w=[z[1]+z[1]],showscale=False,anchor=\"tip\",sizemode=\"absolute\",\n",
    "#    sizeref=0.05,colorscale=[[0, '#000000'], [1,'#000000']])\n",
    "\n",
    "theta, phi = np.mgrid[0:2*np.pi:100j, 0:2*np.pi:100j]\n",
    "x = np.sin(theta)*np.sin(phi)\n",
    "y = np.sin(theta)*np.cos(phi)\n",
    "z = np.cos(theta)\n",
    "\n",
    "fig1.add_surface(x=x,y=y,z=z,opacity=0.05,colorscale=[[0, 'yellow'], [1,'purple']],showlegend=False, showscale = False)\n",
    "\n",
    "Xs=sol.T[0]\n",
    "Ys=sol.T[1]\n",
    "Zs=sol.T[2]\n",
    "\n",
    "\n",
    "\n",
    "\n",
    "\n",
    "fig1"
   ]
  },
  {
   "cell_type": "markdown",
   "id": "ed00b60d",
   "metadata": {},
   "source": [
    "# Symbolic attempt"
   ]
  },
  {
   "cell_type": "code",
   "execution_count": null,
   "id": "c6562920",
   "metadata": {},
   "outputs": [],
   "source": [
    "t = smp.symbols('t', real=True)\n",
    "Hx, Hy, Hz, a, g = smp.symbols('Hx Hy Hz a g', real=True)\n",
    "mx, my, mz = smp.symbols(r'm_{x} m_{y} m_{z}', cls=smp.Function)\n",
    "mx = mx(t)\n",
    "my = my(t)\n",
    "mz = mz(t)\n",
    "# Derivatives\n",
    "mx_d = smp.diff(mx,t)\n",
    "my_d = smp.diff(my,t)\n",
    "mz_d = smp.diff(mz,t)"
   ]
  },
  {
   "cell_type": "code",
   "execution_count": null,
   "id": "55807bec",
   "metadata": {},
   "outputs": [],
   "source": [
    "mx, my, mz"
   ]
  },
  {
   "cell_type": "code",
   "execution_count": null,
   "id": "c508f856",
   "metadata": {},
   "outputs": [],
   "source": [
    "mx_d, my_d, mz_d"
   ]
  },
  {
   "cell_type": "code",
   "execution_count": null,
   "id": "b662bdfb",
   "metadata": {},
   "outputs": [],
   "source": [
    "a=1"
   ]
  },
  {
   "cell_type": "markdown",
   "id": "1c3e7364",
   "metadata": {},
   "source": [
    "# First order ODEs\n",
    "\n",
    "$$ \\dot{m_x} =\\gamma(m_{y}H_{z}-m_{z}H_{y})+\\alpha(m_{y}\\dot{m}_{z}-m_{z}\\dot{m}_{y}) \\hspace{10mm} m_x(0)=0$$\n",
    "$$ \\dot{m_y} =\\gamma(m_{z}H_{x}-m_{x}H_{z})+\\alpha(m_{z}\\dot{m}_{x}-m_{x}\\dot{m}_{z}) \\hspace{10mm} m_y(0)=0$$\n",
    "$$ \\dot{m_z} =\\gamma(m_{x}H_{y}-m_{y}H_{x})+\\alpha(m_{x}\\dot{m}_{y}-m_{y}\\dot{m}_{x}) \\hspace{10mm} m_z(0)=0$$\n",
    "\n",
    "Letting $S=(m_x, m_y,m_x)$ we need to write a function that returns $dS/dt = (\\dot{m}_{x}, \\dot{m}_{y}, \\dot{m}_{z})$. The function $dS/dt$ can take in $S=(m_x, m_y, m_z)$ and $t$. This is like before, but in vector format\n",
    "\n",
    "$$ \\vec{S} = \\begin{bmatrix} m_x \\\\ m_y \\\\ m_z \\end{bmatrix} \\hspace{10mm} \\implies  \\hspace{10mm} \\frac{d\\vec{S}}{dt} = \\vec{f}(t, \\vec{S}) = \\vec{f}(t, m_x, m_y, m_z) =  \\begin{bmatrix}\\dot{m_x} \\\\ \\dot{m_y} \\\\ \\dot{m_z} \\end{bmatrix}  = \\begin{bmatrix}  \\gamma(m_{y}H_{z}-m_{z}H_{y})\\\\ \\gamma(m_{z}H_{x}-m_{x}H_{z}) \\\\ \\gamma(m_{x}H_{y}-m_{y}H_{x}) \\end{bmatrix}$$"
   ]
  },
  {
   "cell_type": "code",
   "execution_count": null,
   "id": "c66e1293",
   "metadata": {},
   "outputs": [],
   "source": [
    "E1=-mx_d+g*(my*Hz-mz*Hy)+a*(my*mz_d-mz*my_d)\n",
    "E2=-my_d+g*(mz*Hx-mx*Hz)+a*(mz*mx_d-mx*mz_d)\n",
    "E3=-mz_d+g*(mx*Hy-my*Hx)+a*(mx*my_d-my*mx_d)"
   ]
  },
  {
   "cell_type": "code",
   "execution_count": null,
   "id": "572bfdb4",
   "metadata": {},
   "outputs": [],
   "source": [
    "E1,E2,E3"
   ]
  },
  {
   "cell_type": "code",
   "execution_count": null,
   "id": "fd44fa77",
   "metadata": {},
   "outputs": [],
   "source": [
    "sols = smp.solve([E1, E2, E3], (mx_d, my_d, mz_d),\n",
    "                simplify=True, rational=False)"
   ]
  },
  {
   "cell_type": "code",
   "execution_count": null,
   "id": "463b82d8",
   "metadata": {},
   "outputs": [],
   "source": [
    "sols"
   ]
  },
  {
   "cell_type": "code",
   "execution_count": null,
   "id": "f7fec120",
   "metadata": {},
   "outputs": [],
   "source": [
    "sols[mx_d]"
   ]
  },
  {
   "cell_type": "code",
   "execution_count": null,
   "id": "9f3cc5d1",
   "metadata": {},
   "outputs": [],
   "source": [
    "sols[my_d]"
   ]
  },
  {
   "cell_type": "code",
   "execution_count": null,
   "id": "fa1b7ec8",
   "metadata": {},
   "outputs": [],
   "source": [
    "sols[mz_d]"
   ]
  },
  {
   "cell_type": "code",
   "execution_count": null,
   "id": "07814d4f",
   "metadata": {},
   "outputs": [],
   "source": [
    "E3"
   ]
  },
  {
   "cell_type": "code",
   "execution_count": null,
   "id": "7e4b5f5c",
   "metadata": {},
   "outputs": [],
   "source": [
    "E1"
   ]
  },
  {
   "cell_type": "code",
   "execution_count": null,
   "id": "d0e4d13a",
   "metadata": {},
   "outputs": [],
   "source": []
  }
 ],
 "metadata": {
  "kernelspec": {
   "display_name": "Python 3 (ipykernel)",
   "language": "python",
   "name": "python3"
  },
  "language_info": {
   "codemirror_mode": {
    "name": "ipython",
    "version": 3
   },
   "file_extension": ".py",
   "mimetype": "text/x-python",
   "name": "python",
   "nbconvert_exporter": "python",
   "pygments_lexer": "ipython3",
   "version": "3.8.11"
  }
 },
 "nbformat": 4,
 "nbformat_minor": 5
}
