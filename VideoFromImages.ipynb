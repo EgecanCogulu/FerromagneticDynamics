{
 "cells": [
  {
   "cell_type": "code",
   "execution_count": null,
   "id": "9a99f0ae",
   "metadata": {},
   "outputs": [],
   "source": [
    "# -*- coding: utf-8 -*-\n",
    "\"\"\"\n",
    "Created on Mon Mar 23 18:45:25 2020\n",
    "\n",
    "@author: Egecan\n",
    "\n",
    "This script creates a video (in .mp4 format) from images in a folder. It saves the video in the same folder.\n",
    "\n",
    "\"\"\"\n",
    "\n",
    "import cv2\n",
    "import os\n",
    "import numpy as np\n",
    "\n",
    "\n",
    "#Change the images folder and video name\n",
    "image_folder = r'C:\\Users\\Egecan\\Desktop\\CaseB\\\\'\n",
    "video_name = image_folder+'CaseBvideo.mp4'"
   ]
  },
  {
   "cell_type": "code",
   "execution_count": null,
   "id": "04abf2a5",
   "metadata": {},
   "outputs": [],
   "source": [
    "images = [img for img in os.listdir(image_folder) if img.endswith(\".png\")]\n",
    "images = list(np.sort(images))\n",
    "\n",
    "frame = cv2.imread(os.path.join(image_folder, images[0]))\n",
    "height, width, layers = frame.shape\n",
    "video = cv2.VideoWriter(video_name, 0, 30, (int(width),int(height)))\n",
    "for image in images:\n",
    "    video.write(cv2.imread(os.path.join(image_folder, image)))\n",
    "cv2.destroyAllWindows()\n",
    "video.release()"
   ]
  }
 ],
 "metadata": {
  "kernelspec": {
   "display_name": "Python 3 (ipykernel)",
   "language": "python",
   "name": "python3"
  },
  "language_info": {
   "codemirror_mode": {
    "name": "ipython",
    "version": 3
   },
   "file_extension": ".py",
   "mimetype": "text/x-python",
   "name": "python",
   "nbconvert_exporter": "python",
   "pygments_lexer": "ipython3",
   "version": "3.8.12"
  }
 },
 "nbformat": 4,
 "nbformat_minor": 5
}
