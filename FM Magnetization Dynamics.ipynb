{
 "cells": [
  {
   "cell_type": "code",
   "execution_count": 1,
   "id": "31c1fd42",
   "metadata": {},
   "outputs": [],
   "source": [
    "import numpy as np\n",
    "import matplotlib.pyplot as plt\n",
    "import sympy as smp\n",
    "from scipy.integrate import odeint\n",
    "import plotly.graph_objects as go\n",
    "from IPython.display import HTML\n",
    "from sympy.matrices import Matrix\n",
    "from sympy.vector import Vector\n",
    "import plotly.express as px\n",
    "from ipywidgets import interact\n",
    "from ipywidgets import interactive\n",
    "from ipywidgets import widgets\n",
    "from scipy.integrate import odeint\n",
    "import plotly.graph_objects as go\n",
    "from IPython.display import HTML\n",
    "from scipy.integrate import solve_ivp"
   ]
  },
  {
   "cell_type": "markdown",
   "id": "6721962b",
   "metadata": {},
   "source": [
    "### Free Energy Density\n",
    "We start by the free energy density in terms of unit magnetizations $\\textbf{m}$:\n",
    "\n",
    "$$ \\frac{\\epsilon}{\\hbar\\gamma_{0}} =-\\textbf{m}\\cdot H-K_{z}(\\textbf{e}_{h}\\cdot \\textbf{m})^2 $$"
   ]
  },
  {
   "cell_type": "markdown",
   "id": "20d6b702",
   "metadata": {},
   "source": [
    "### LLG Equation\n",
    "Dynamics are described by two coupled LLG equation:\n",
    "\n",
    "$$\\frac{d\\vec{m}}{dt}= \\gamma_{0} (\\vec{\\textbf{m}} \\times H^{eff})+ \\alpha_{0} \\vec{\\textbf{m}} \\times\\frac{d\\vec{\\textbf{m}}}{dt} +\\gamma_{0}H_{DL}\\vec{\\textbf{m}}\\times[\\hat{y}\\times \\vec{\\textbf{m}}] $$"
   ]
  },
  {
   "cell_type": "markdown",
   "id": "bab308d2",
   "metadata": {},
   "source": [
    "### Effective Field\n",
    "Where the effective fields for each subllattice $H^{eff}$ is given by:\n",
    "\n",
    "$$H^{eff} =\\frac{\\delta\\epsilon}{\\hbar\\gamma_{0}\\delta\\vec{\\textbf{m}}} $$"
   ]
  },
  {
   "cell_type": "markdown",
   "id": "3885757d",
   "metadata": {},
   "source": [
    "We define the necessary variables for symbolic calculation using Sympy:"
   ]
  },
  {
   "cell_type": "code",
   "execution_count": 2,
   "id": "8e49ee68",
   "metadata": {},
   "outputs": [],
   "source": [
    "t = smp.symbols('t', real=True)\n",
    "Hx, Hy, Hz, a, g, FL, DL, Hex, Kz,D= smp.symbols('Hx Hy Hz a g H_{FL} H_{DL} H_{ex} K_{z} D ', real=True)\n",
    "mx, my, mz = smp.symbols(r'm_{x} m_{y} m_{z}', cls=smp.Function)\n",
    "mx = mx(t)\n",
    "my = my(t)\n",
    "mz = mz(t)\n",
    "# Derivatives\n",
    "mx_d = smp.diff(mx,t)\n",
    "my_d = smp.diff(my,t)\n",
    "mz_d = smp.diff(mz,t)\n",
    "\n",
    "m=Matrix([mx,my,mz])\n",
    "\n",
    "m_d=Matrix([mx_d,my_d,mz_d])\n",
    "H=Matrix([Hx,Hy,Hz])\n",
    "\n",
    "X=Matrix([1,0,0])\n",
    "Y=Matrix([0,1,0])\n",
    "Z=Matrix([0,0,1])"
   ]
  },
  {
   "cell_type": "markdown",
   "id": "62eeb149",
   "metadata": {},
   "source": [
    "Then we set the values of material parameters such as exchange, Gilbert damping, DMI and anisotropy:"
   ]
  },
  {
   "cell_type": "code",
   "execution_count": 3,
   "id": "668c62a7",
   "metadata": {},
   "outputs": [],
   "source": [
    "a_value=0.1\n",
    "\n",
    "Kz_value=0.01\n",
    "g_value=1\n",
    "\n",
    "DL_value=3E-5\n",
    "\n",
    "Hx_value,Hy_value,Hz_value=1,1,1\n",
    "\n",
    "e=Matrix([0,0,1])"
   ]
  },
  {
   "cell_type": "markdown",
   "id": "3c5eb147",
   "metadata": {},
   "source": [
    "Setting the free energy and calculating effective fields:"
   ]
  },
  {
   "cell_type": "code",
   "execution_count": 4,
   "id": "ac62adf4",
   "metadata": {
    "scrolled": true
   },
   "outputs": [],
   "source": [
    "FE=  Kz*((e.dot(m))) - H.dot(m)\n",
    "Heff=smp.diff(FE,m)\n"
   ]
  },
  {
   "cell_type": "code",
   "execution_count": 5,
   "id": "896b4900",
   "metadata": {},
   "outputs": [
    {
     "data": {
      "text/latex": [
       "$\\displaystyle \\left[\\begin{matrix}- Hx\\\\- Hy\\\\- Hz + K_{z}\\end{matrix}\\right]$"
      ],
      "text/plain": [
       "Matrix([\n",
       "[        -Hx],\n",
       "[        -Hy],\n",
       "[-Hz + K_{z}]])"
      ]
     },
     "execution_count": 5,
     "metadata": {},
     "output_type": "execute_result"
    }
   ],
   "source": [
    "Heff"
   ]
  },
  {
   "cell_type": "markdown",
   "id": "06d96108",
   "metadata": {},
   "source": [
    "Now we define the 2-coupled LLG equations for each sublattice moment:"
   ]
  },
  {
   "cell_type": "code",
   "execution_count": null,
   "id": "a44ea654",
   "metadata": {},
   "outputs": [],
   "source": []
  },
  {
   "cell_type": "markdown",
   "id": "0b6ddc90",
   "metadata": {},
   "source": [
    "LLG Equation:\n",
    "\n",
    "$$\\frac{d\\vec{m}}{dt}= \\gamma_{0} (\\vec{\\textbf{m}} \\times H^{eff})+ \\alpha_{0} \\vec{\\textbf{m}} \\times\\frac{d\\vec{\\textbf{m}}}{dt} +\\gamma_{0}H_{DL}\\vec{\\textbf{m}}\\times[\\hat{y}\\times \\vec{\\textbf{m}}] $$"
   ]
  },
  {
   "cell_type": "code",
   "execution_count": 6,
   "id": "259aeb9b",
   "metadata": {},
   "outputs": [],
   "source": [
    "llg=-m_d + g*(m.cross(Heff))+a*(m.cross(m_d))+g*DL*m.cross(Y.cross(m))\n",
    "llg=-m_d + g*(m.cross(Heff))+a*(m.cross(m_d))"
   ]
  },
  {
   "cell_type": "markdown",
   "id": "d46a9eea",
   "metadata": {},
   "source": [
    "We solve symbollically both equations for $\\frac{d\\vec{m}_{1,2}}{dt}$: (we don't solve the differential equation yet. We just have a symbollic expression for $\\frac{d\\vec{m}_{1,2}}{dt}$)"
   ]
  },
  {
   "cell_type": "code",
   "execution_count": 7,
   "id": "c79b1978",
   "metadata": {},
   "outputs": [],
   "source": [
    "sols= smp.solve(llg, (mx_d, my_d, mz_d),simplify=True, rational=False)"
   ]
  },
  {
   "cell_type": "markdown",
   "id": "6866e81c",
   "metadata": {},
   "source": [
    "We evaluate the symbolic expressions:"
   ]
  },
  {
   "cell_type": "code",
   "execution_count": 8,
   "id": "f33bf576",
   "metadata": {},
   "outputs": [],
   "source": [
    "mx_df = smp.lambdify((t,m), sols[mx_d].subs([(g,g_value),(a,a_value),(Kz,Kz_value),(DL,DL_value),(Hx,Hx_value),(Hy,Hy_value),(Hz,Hz_value)]))\n",
    "my_df = smp.lambdify((t,m), sols[my_d].subs([(g,g_value),(a,a_value),(Kz,Kz_value),(DL,DL_value),(Hx,Hx_value),(Hy,Hy_value),(Hz,Hz_value)]))\n",
    "mz_df = smp.lambdify((t,m), sols[mz_d].subs([(g,g_value),(a,a_value),(Kz,Kz_value),(DL,DL_value),(Hx,Hx_value),(Hy,Hy_value),(Hz,Hz_value)]))"
   ]
  },
  {
   "cell_type": "markdown",
   "id": "45966697",
   "metadata": {},
   "source": [
    "We define a function and inital conditions so that we can solve the ODES numerically:"
   ]
  },
  {
   "cell_type": "code",
   "execution_count": 9,
   "id": "5cfbcd00",
   "metadata": {},
   "outputs": [
    {
     "data": {
      "text/plain": [
       "1.0891089108910892"
      ]
     },
     "execution_count": 9,
     "metadata": {},
     "output_type": "execute_result"
    }
   ],
   "source": [
    "mx_df(1,[0,0,1])"
   ]
  },
  {
   "cell_type": "code",
   "execution_count": 10,
   "id": "b352656b",
   "metadata": {},
   "outputs": [],
   "source": [
    "def dSdt(t,S):\n",
    "    mx,my,mz  = S\n",
    "    return [\n",
    "        mx_df(t,[mx,my,mz]),\n",
    "        my_df(t,[mx,my,mz]),\n",
    "        mz_df(t,[mx,my,mz]),\n",
    "    ]\n",
    "\n",
    "theta=30*(np.pi/180)\n",
    "phi=45*(np.pi/180)\n",
    "\n",
    "x=np.sin(theta)*np.cos(phi)\n",
    "y=np.sin(theta)*np.sin(phi)\n",
    "z=np.cos(theta)\n",
    "\n",
    "\n",
    "\n",
    "init_cond=(x,y,z)"
   ]
  },
  {
   "cell_type": "markdown",
   "id": "51df6f45",
   "metadata": {},
   "source": [
    "We solve the coupled ODEs using ODEINT function:"
   ]
  },
  {
   "cell_type": "code",
   "execution_count": 11,
   "id": "9991349b",
   "metadata": {},
   "outputs": [],
   "source": [
    "t = np.linspace(0, 100, 500)\n",
    "number_of_points=len(t)\n",
    "sol = odeint(dSdt, y0=init_cond, t=t, tfirst=True)\n"
   ]
  },
  {
   "cell_type": "code",
   "execution_count": 12,
   "id": "c342bfb0",
   "metadata": {},
   "outputs": [],
   "source": [
    "sol=sol.T"
   ]
  },
  {
   "cell_type": "markdown",
   "id": "37fa80c4",
   "metadata": {},
   "source": [
    "We plot the graphics:"
   ]
  },
  {
   "cell_type": "code",
   "execution_count": 13,
   "id": "ef75e2f8",
   "metadata": {
    "scrolled": false
   },
   "outputs": [
    {
     "data": {
      "application/vnd.jupyter.widget-view+json": {
       "model_id": "86879d129ec04a54af7a6fbd782554ce",
       "version_major": 2,
       "version_minor": 0
      },
      "text/plain": [
       "interactive(children=(IntSlider(value=0, continuous_update=False, description='Time Step', max=499, readout_fo…"
      ]
     },
     "metadata": {},
     "output_type": "display_data"
    },
    {
     "data": {
      "application/vnd.jupyter.widget-view+json": {
       "model_id": "2bb2f5a7bb5e4cc2893e8eba87d654f5",
       "version_major": 2,
       "version_minor": 0
      },
      "text/plain": [
       "FigureWidget({\n",
       "    'data': [{'line': {'color': 'red', 'width': 4},\n",
       "              'marker': {'color': 'black', …"
      ]
     },
     "metadata": {},
     "output_type": "display_data"
    }
   ],
   "source": [
    "X1s=sol[0]\n",
    "Y1s=sol[1]\n",
    "Z1s=sol[2]\n",
    "\n",
    "fig1 = go.FigureWidget()\n",
    "#NEEL VECTOR1\n",
    "x1 = np.array([0,X1s[0]])\n",
    "y1 = np.array([0,Y1s[0]])\n",
    "z1 = np.array([0,Z1s[0]])\n",
    "\n",
    "fig1.add_scatter3d(x=x1, y=y1, z=z1,opacity=0.75,\n",
    "    marker=dict(size=0.1,color='black'),\n",
    "    line=dict(color='red', width=4 ),\n",
    "    name=\"$m_{1}$\")\n",
    "fig1.add_cone(x=[x1[1]], y=[y1[1]], z=z1[[1]], u=[x1[1]+x1[1]], v=[y1[1]+y1[1]], w=[z1[1]+z1[1]],opacity=0.75,showscale=False,anchor=\"tip\",sizemode=\"absolute\",\n",
    "    sizeref=0.1,colorscale=[[0, 'red'], [1,'red']])\n",
    "\n",
    "\n",
    "\n",
    "\n",
    "\n",
    "#Damping-like Torque\n",
    "fig1.add_scatter3d(x=x1, y=y1, z=z1,opacity=0.9,\n",
    "    marker=dict(size=0.1,color='black'),\n",
    "    line=dict(color='brown', width=5 ),\n",
    "    name=\"$ \\\\tau_{DL}$\",showlegend=True)\n",
    "\n",
    "fig1.update_layout(\n",
    "    height=700,\n",
    "    width=900,\n",
    "\n",
    "    autosize=True,\n",
    "    scene=dict(camera=dict(up=dict(x=0,y=0, z=1 ), eye=dict(x=-1,y=1,z=1,)),\n",
    "               xaxis = dict(nticks=6, range=[-2,2]),\n",
    "               yaxis = dict(nticks=6, range=[-2,2]),\n",
    "               zaxis = dict(nticks=6, range=[-2,2]),\n",
    "        aspectratio = dict( x=1, y=1, z=1),\n",
    "        aspectmode = 'manual'))\n",
    "#CIRCLE IN XY PLANE\n",
    "C1=1\n",
    "phi=np.linspace(0,2*np.pi,100)\n",
    "x=C1*np.cos(phi)\n",
    "y=C1*np.sin(phi)\n",
    "z=C1*np.zeros(len(x))\n",
    "fig1.add_scatter3d(x=x, y=y, z=z,opacity=0.1,\n",
    "    marker=dict(size=0.1,color='grey'),\n",
    "    line=dict(color='grey', width=2 ),\n",
    "    showlegend=False)\n",
    "#CIRCLE IN XZ PLANE\n",
    "phi=np.linspace(0,2*np.pi,100)\n",
    "x=C1*np.cos(phi)\n",
    "y=C1*np.zeros(len(x))\n",
    "z=C1*np.sin(phi)\n",
    "fig1.add_scatter3d(x=x, y=y, z=z,opacity=0.1,\n",
    "    marker=dict(size=0.1,color='grey'),\n",
    "    line=dict(color='grey', width=2 ),\n",
    "    showlegend=False)\n",
    "\n",
    "#CIRCLE IN YZ PLANE\n",
    "phi=np.linspace(0,2*np.pi,100)\n",
    "x=C1*np.zeros(len(x))\n",
    "y=C1*np.cos(phi)\n",
    "z=C1*np.sin(phi)\n",
    "fig1.add_scatter3d(x=x, y=y, z=z,opacity=0.1,\n",
    "    marker=dict(size=0.1,color='grey'),\n",
    "    line=dict(color='grey', width=2 ),\n",
    "    showlegend=False)\n",
    "\n",
    "#CIRCLE IN YZ PLANE\n",
    "phi=np.linspace(-1,1,100)\n",
    "x=C1*np.zeros(len(x))\n",
    "y=C1*np.zeros(len(x))\n",
    "z=phi\n",
    "fig1.add_scatter3d(x=x, y=y, z=z,opacity=0.1,\n",
    "    marker=dict(size=0.1,color='grey'),\n",
    "    line=dict(color='grey', width=2 ),\n",
    "    showlegend=False)\n",
    "#CIRCLE IN YZ PLANE\n",
    "phi=np.linspace(-1,1,100)\n",
    "x=C1*np.zeros(len(x))\n",
    "y=phi\n",
    "z=C1*np.zeros(len(x))\n",
    "fig1.add_scatter3d(x=x, y=y, z=z,opacity=0.1,\n",
    "    marker=dict(size=0.1,color='grey'),\n",
    "    line=dict(color='grey', width=2 ),\n",
    "    showlegend=False)\n",
    "#CIRCLE IN YZ PLANE\n",
    "phi=np.linspace(-1,1,100)\n",
    "x=phi\n",
    "y=C1*np.zeros(len(x))\n",
    "z=C1*np.zeros(len(x))\n",
    "fig1.add_scatter3d(x=x, y=y, z=z,opacity=0.1,\n",
    "    marker=dict(size=0.1,color='grey'),\n",
    "    line=dict(color='grey', width=2 ),\n",
    "    showlegend=False)\n",
    "\n",
    "\n",
    "theta, phi = np.mgrid[0:2*np.pi:100j, 0:2*np.pi:100j]\n",
    "x = np.sin(theta)*np.sin(phi)\n",
    "y = np.sin(theta)*np.cos(phi)\n",
    "z = np.cos(theta)\n",
    "\n",
    "fig1.add_surface(x=x,y=y,z=z,opacity=0.07,colorscale=[[0, 'grey'], [1,'white']],showlegend=False, showscale = False)\n",
    "\n",
    "fig1.add_scatter3d(x=X1s, y=Y1s, z=Z1s,opacity=0.25,\n",
    "    marker=dict(size=0.1,color='red'),\n",
    "    line=dict(color='red', width=3),\n",
    "    showlegend=False)\n",
    "\n",
    "#Extermal Field1\n",
    "norm=2*np.sqrt(float(Hx_value**2+Hy_value**2+Hz_value**2))\n",
    "x1 = np.array([0,Hx_value/norm])\n",
    "y1 = np.array([0,Hy_value/norm])\n",
    "z1 = np.array([0,Hz_value/norm])\n",
    "\n",
    "fig1.add_scatter3d(x=x1, y=y1, z=z1,opacity=0.75,\n",
    "    marker=dict(size=0.1,color='black'),\n",
    "    line=dict(color='green', width=6 ),\n",
    "    name=\"$H_{applied}$\")\n",
    "fig1.add_cone(x=[x1[1]], y=[y1[1]], z=z1[[1]], u=[x1[1]+x1[1]], v=[y1[1]+y1[1]], w=[z1[1]+z1[1]],opacity=0.75,showscale=False,anchor=\"tip\",sizemode=\"absolute\",\n",
    "    sizeref=0.1,colorscale=[[0, 'green'], [1,'green']])\n",
    "\n",
    "#Spin Accumulation\n",
    "\n",
    "x1 = np.array([0,0])\n",
    "y1 = np.array([0,0.5])\n",
    "z1 = np.array([0,0])\n",
    "\n",
    "fig1.add_scatter3d(x=x1, y=y1, z=z1,opacity=0.75,\n",
    "    marker=dict(size=0.1,color='black'),\n",
    "    line=dict(color='yellow', width=6),\n",
    "    name=\"$\\sigma_{AC}$\")\n",
    "fig1.add_cone(x=[x1[1]], y=[y1[1]], z=z1[[1]], u=[x1[1]+x1[1]], v=[y1[1]+y1[1]], w=[z1[1]+z1[1]],opacity=0.75,showscale=False,anchor=\"tip\",sizemode=\"absolute\",\n",
    "    sizeref=0.1,colorscale=[[0, 'yellow'], [1,'yellow']])\n",
    "\n",
    "\n",
    "def update(t=0):\n",
    "    with fig1.batch_update():\n",
    "        \n",
    "        fig1.data[0].x=[0,X1s[t]]\n",
    "        fig1.data[0].y=[0,Y1s[t]]\n",
    "        fig1.data[0].z=[0,Z1s[t]]\n",
    "        \n",
    "        fig1.data[1].x=[X1s[t]]\n",
    "        fig1.data[1].y=[Y1s[t]]\n",
    "        fig1.data[1].z=[Z1s[t]]\n",
    "        fig1.data[1].u=[2*X1s[t]]\n",
    "        fig1.data[1].v=[2*Y1s[t]]\n",
    "        fig1.data[1].w=[2*Z1s[t]]\n",
    "        \n",
    "\n",
    "\n",
    "w=interact(update,t=widgets.IntSlider(min=0, max=number_of_points-1, step=int(number_of_points)/25, value=0,description=\"Time Step\",readout_format=\".1d\",continuous_update=False))\n",
    "#w=interactive(update,t=(0,number_of_points-1,1)) \n",
    "#w.children[0].description=\"$Time (t)$\"\n",
    "#display(w)\n",
    "fig1\n",
    "\n"
   ]
  },
  {
   "cell_type": "code",
   "execution_count": 14,
   "id": "4ba020ad",
   "metadata": {},
   "outputs": [
    {
     "ename": "NameError",
     "evalue": "name 'X2s' is not defined",
     "output_type": "error",
     "traceback": [
      "\u001b[1;31m---------------------------------------------------------------------------\u001b[0m",
      "\u001b[1;31mNameError\u001b[0m                                 Traceback (most recent call last)",
      "\u001b[1;32m~\\AppData\\Local\\Temp/ipykernel_1976/1445819763.py\u001b[0m in \u001b[0;36m<module>\u001b[1;34m\u001b[0m\n\u001b[0;32m      8\u001b[0m \u001b[1;32mimport\u001b[0m \u001b[0mplotly\u001b[0m\u001b[1;33m.\u001b[0m\u001b[0mgraph_objects\u001b[0m \u001b[1;32mas\u001b[0m \u001b[0mgo\u001b[0m\u001b[1;33m\u001b[0m\u001b[1;33m\u001b[0m\u001b[0m\n\u001b[0;32m      9\u001b[0m \u001b[1;33m\u001b[0m\u001b[0m\n\u001b[1;32m---> 10\u001b[1;33m fig = go.Figure(frames=[go.Frame(data=(go.Scatter3d(x=[0,X1s[k]],y=[0,Y1s[k]],z=[0,Z1s[k]],marker=dict(size=0.1,color='black'),\n\u001b[0m\u001b[0;32m     11\u001b[0m                                     line=dict(color='red', width=4)),\n\u001b[0;32m     12\u001b[0m \u001b[1;33m\u001b[0m\u001b[0m\n",
      "\u001b[1;32m~\\AppData\\Local\\Temp/ipykernel_1976/1445819763.py\u001b[0m in \u001b[0;36m<listcomp>\u001b[1;34m(.0)\u001b[0m\n\u001b[0;32m     12\u001b[0m \u001b[1;33m\u001b[0m\u001b[0m\n\u001b[0;32m     13\u001b[0m \u001b[1;33m\u001b[0m\u001b[0m\n\u001b[1;32m---> 14\u001b[1;33m                        go.Scatter3d(x=[0,X2s[k]],y=[0,Y2s[k]],z=[0,Z2s[k]],marker=dict(size=0.1,color='black'),\n\u001b[0m\u001b[0;32m     15\u001b[0m                                     line=dict(color='blue', width=4)),\n\u001b[0;32m     16\u001b[0m                        go.Cone(x=[X1s[k]], y=[Y1s[k]], z=[Z1s[k]], u=[X1s[k]+X1s[k]], v=[Y1s[k]+Y1s[k]], w=[Z1s[k]+Z1s[k]],\n",
      "\u001b[1;31mNameError\u001b[0m: name 'X2s' is not defined"
     ]
    }
   ],
   "source": [
    "# Import data\n",
    "import time\n",
    "import numpy as np\n",
    "length=len(X1s)\n",
    "step=int(length/30)\n",
    "step=5\n",
    "# Define frames\n",
    "import plotly.graph_objects as go\n",
    "\n",
    "fig = go.Figure(frames=[go.Frame(data=(go.Scatter3d(x=[0,X1s[k]],y=[0,Y1s[k]],z=[0,Z1s[k]],marker=dict(size=0.1,color='black'),\n",
    "                                    line=dict(color='red', width=4)),\n",
    "                                       \n",
    "                                       \n",
    "                       go.Scatter3d(x=[0,X2s[k]],y=[0,Y2s[k]],z=[0,Z2s[k]],marker=dict(size=0.1,color='black'),\n",
    "                                    line=dict(color='blue', width=4)),\n",
    "                       go.Cone(x=[X1s[k]], y=[Y1s[k]], z=[Z1s[k]], u=[X1s[k]+X1s[k]], v=[Y1s[k]+Y1s[k]], w=[Z1s[k]+Z1s[k]],\n",
    "                               opacity=0.75,showscale=False,anchor=\"tip\",sizemode=\"absolute\",sizeref=0.1,\n",
    "                               colorscale=[[0, 'red'], [1,'red']]),\n",
    "                       go.Cone(x=[X2s[k]], y=[Y2s[k]], z=[Z2s[k]], u=[X2s[k]+X2s[k]], v=[Y2s[k]+Y2s[k]], w=[Z2s[k]+Z2s[k]],\n",
    "                               opacity=0.75,showscale=False,anchor=\"tip\",sizemode=\"absolute\",sizeref=0.1,\n",
    "                               colorscale=[[0, 'blue'], [1,'blue']])                      \n",
    "                      ),  \n",
    "    name=str(k))\n",
    "    for k in np.arange(0,length,step)]\n",
    "               )\n",
    "\n",
    "k=0\n",
    "# Add data to be displayed before animation starts\n",
    "fig.add_trace(go.Scatter3d(\n",
    "    x=[0,X1s[k]],y=[0,Y1s[k]],z=[0,Z1s[k]],marker=dict(size=0.1,color='black'),\n",
    "                                    line=dict(color='red', width=4)))\n",
    "fig.add_trace(go.Scatter3d(\n",
    "    x=[0,X2s[k]],y=[0,Y2s[k]],z=[0,Z2s[k]],marker=dict(size=0.1,color='black'),\n",
    "                                    line=dict(color='blue', width=4)))\n",
    "fig.add_trace(go.Cone(x=[X1s[k]], y=[Y1s[k]], z=[Z1s[k]], u=[X1s[k]+X1s[k]], v=[Y1s[k]+Y1s[k]], w=[Z1s[k]+Z1s[k]],\n",
    "                      opacity=0.75,showscale=False,anchor=\"tip\",sizemode=\"absolute\",sizeref=0.1,\n",
    "                      colorscale=[[0, 'red'], [1,'red']]))\n",
    "              \n",
    "fig.add_trace(go.Cone(x=[X2s[k]], y=[Y2s[k]], z=[Z2s[k]], u=[X2s[k]+X2s[k]], v=[Y2s[k]+Y2s[k]], w=[Z2s[k]+Z2s[k]],\n",
    "                      opacity=0.75,showscale=False,anchor=\"tip\",sizemode=\"absolute\",sizeref=0.1,\n",
    "                      colorscale=[[0, 'blue'], [1,'blue']]))\n",
    "\n",
    "fig.add_trace(go.Scatter3d(x=X1s, y=Y1s, z=Z1s,opacity=0.25,\n",
    "    marker=dict(size=0.1,color='red'),\n",
    "    line=dict(color='red', width=3.5),\n",
    "    showlegend=False))\n",
    "\n",
    "fig.add_trace(go.Scatter3d(x=X2s, y=Y2s, z=Z2s,opacity=0.25,\n",
    "    marker=dict(size=0.1,color='blue'),\n",
    "    line=dict(color='blue', width=3.5 ),\n",
    "    showlegend=False))\n",
    "\n",
    "\n",
    "#CIRCLE IN XY PLANE\n",
    "C1=1\n",
    "phi=np.linspace(0,2*np.pi,60)\n",
    "x=C1*np.cos(phi)\n",
    "y=C1*np.sin(phi)\n",
    "z=C1*np.zeros(len(x))\n",
    "fig.add_trace(go.Scatter3d(x=x, y=y, z=z,opacity=0.1,\n",
    "    marker=dict(size=0.1,color='grey'),\n",
    "    line=dict(color='grey', width=2 ),\n",
    "    showlegend=False))\n",
    "\n",
    "#CIRCLE IN XZ PLANE\n",
    "phi=np.linspace(0,2*np.pi,60)\n",
    "x=C1*np.cos(phi)\n",
    "y=C1*np.zeros(len(x))\n",
    "z=C1*np.sin(phi)\n",
    "fig.add_trace(go.Scatter3d(x=x, y=y, z=z,opacity=0.1,\n",
    "    marker=dict(size=0.1,color='grey'),\n",
    "    line=dict(color='grey', width=2 ),\n",
    "    showlegend=False))\n",
    "\n",
    "#CIRCLE IN YZ PLANE\n",
    "phi=np.linspace(0,2*np.pi,60)\n",
    "x=C1*np.zeros(len(x))\n",
    "y=C1*np.cos(phi)\n",
    "z=C1*np.sin(phi)\n",
    "fig.add_trace(go.Scatter3d(x=x, y=y, z=z,opacity=0.1,\n",
    "    marker=dict(size=0.1,color='grey'),\n",
    "    line=dict(color='grey', width=2 ),\n",
    "    showlegend=False))\n",
    "\n",
    "#Line at Z axis\n",
    "phi=np.linspace(-1,1,2)\n",
    "x=C1*np.zeros(len(x))\n",
    "y=C1*np.zeros(len(x))\n",
    "z=phi\n",
    "fig.add_trace(go.Scatter3d(x=x, y=y, z=z,opacity=0.1,\n",
    "    marker=dict(size=0.1,color='grey'),\n",
    "    line=dict(color='grey', width=2 ),\n",
    "    showlegend=False))\n",
    "#Line at Y axis\n",
    "phi=np.linspace(-1,1,2)\n",
    "x=C1*np.zeros(len(x))\n",
    "y=phi\n",
    "z=C1*np.zeros(len(x))\n",
    "fig.add_trace(go.Scatter3d(x=x, y=y, z=z,opacity=0.1,\n",
    "    marker=dict(size=0.1,color='grey'),\n",
    "    line=dict(color='grey', width=2 ),\n",
    "    showlegend=False))\n",
    "#Line at X axis\n",
    "phi=np.linspace(-1,1,2)\n",
    "x=phi\n",
    "y=C1*np.zeros(len(x))\n",
    "z=C1*np.zeros(len(x))\n",
    "fig.add_trace(go.Scatter3d(x=x, y=y, z=z,opacity=0.1,\n",
    "    marker=dict(size=0.1,color='grey'),\n",
    "    line=dict(color='grey', width=2 ),\n",
    "    showlegend=False))\n",
    "\n",
    "theta, phi = np.mgrid[0:2*np.pi:100j, 0:2*np.pi:100j]\n",
    "x = np.sin(theta)*np.sin(phi)\n",
    "y = np.sin(theta)*np.cos(phi)\n",
    "z = np.cos(theta)\n",
    "fig.add_trace(go.Surface(x=x,y=y,z=z,opacity=0.07,colorscale=[[0, 'grey'], [1,'white']],showlegend=False, showscale = False))    \n",
    "\n",
    "def frame_args(duration):\n",
    "    return {\n",
    "            \"frame\": {\"duration\": duration,\"redraw\": True},\n",
    "            \"mode\": \"immediate\",\n",
    "            \"fromcurrent\": False,\n",
    "            \"transition\": {\"duration\": duration, \"easing\":\"linear\"}\n",
    "        }\n",
    "\n",
    "sliders = [\n",
    "            {\n",
    "                \"pad\": {\"b\": 10, \"t\": 60},\n",
    "                \"len\": 0.9,\n",
    "                \"x\": 0.1,\n",
    "                \"y\": 0,\n",
    "                \"steps\": [\n",
    "                    {\n",
    "                        \"args\": [[f.name], frame_args(0)],\n",
    "                        \"label\": str(k),\n",
    "                        \"method\": \"animate\",\n",
    "                    }\n",
    "                    for k, f in enumerate(fig.frames)\n",
    "                ],\n",
    "            }\n",
    "        ]\n",
    "\n",
    "# Layout\n",
    "\n",
    "fig.update_layout(\n",
    "         title='AFM Neel Vector Dynamics',\n",
    "         width=900,\n",
    "         height=700,\n",
    "         scene=dict(camera=dict(up=dict(x=0,y=0, z=1 ), eye=dict(x=-0.9,y=0.9,z=0.9,)),\n",
    "                xaxis = dict(nticks=6, range=[-1.5,1.5]),\n",
    "                yaxis = dict(nticks=6, range=[-1.5,1.5]),\n",
    "                zaxis = dict(nticks=6, range=[-1.5,1.5]),\n",
    "         aspectratio = dict( x=1, y=1, z=1),\n",
    "         aspectmode = 'manual'),\n",
    "         updatemenus = [\n",
    "            {\n",
    "                \"buttons\": [\n",
    "                    {\n",
    "                        \"args\": [None, frame_args(1)],\n",
    "                        \"label\": \"&#9654;\", # play symbol\n",
    "                        \"method\": \"animate\",\n",
    "                        \n",
    "                    },\n",
    "                    {\n",
    "                        \"args\": [[None], frame_args(0)],\n",
    "                        \"label\": \"&#9724;\", # pause symbol\n",
    "                        \"method\": \"animate\",\n",
    "                    },\n",
    "                ],\n",
    "                \"direction\": \"left\",\n",
    "                \"pad\": {\"r\": 10, \"t\": 70},\n",
    "                \"type\": \"buttons\",\n",
    "                \"x\": 0.1,\n",
    "                \"y\": 0,\n",
    "            }\n",
    "         ],\n",
    "         sliders=sliders\n",
    ")\n",
    "\n",
    "fig.show()"
   ]
  },
  {
   "cell_type": "code",
   "execution_count": null,
   "id": "110e99c2",
   "metadata": {},
   "outputs": [],
   "source": []
  }
 ],
 "metadata": {
  "kernelspec": {
   "display_name": "Python 3 (ipykernel)",
   "language": "python",
   "name": "python3"
  },
  "language_info": {
   "codemirror_mode": {
    "name": "ipython",
    "version": 3
   },
   "file_extension": ".py",
   "mimetype": "text/x-python",
   "name": "python",
   "nbconvert_exporter": "python",
   "pygments_lexer": "ipython3",
   "version": "3.8.11"
  }
 },
 "nbformat": 4,
 "nbformat_minor": 5
}
